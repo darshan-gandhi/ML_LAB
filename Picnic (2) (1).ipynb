{
 "cells": [
  {
   "cell_type": "markdown",
   "metadata": {
    "colab_type": "text",
    "id": "nem8AVXvTliL"
   },
   "source": [
    "#ID3 is one of the algorithms used to create decision trees for predictive tasks when all descriptive features are catagorical. There are exist other variants. Search for these models and describe them briefly."
   ]
  },
  {
   "cell_type": "markdown",
   "metadata": {
    "colab_type": "text",
    "id": "2K3Fgi25VQCj"
   },
   "source": [
    "Decision trees use multiple algorithms to decide to split a node into two or more sub-nodes.\n",
    "The creation of sub-nodes increases the homogeneity of resultant sub-nodes. In other words, we can say that the purity of the node increases with respect to the target variable. The decision tree splits the nodes on all available variables and then selects the split which results in most homogeneous sub-nodes.\n",
    "\n",
    "\n",
    ">The different types of algorithms are:\n",
    "\n",
    "\n",
    "1. ID3 → (extension of D3)\n",
    "2. C4.5 → (successor of ID3)\n",
    "3. CART → (Classification And Regression Tree)\n",
    "4. CHAID → (Chi-square automatic interaction detection Performs multi-level splits when computing classification trees)\n",
    "5. MARS → (multivariate adaptive regression splines)\n",
    "\n",
    "> **C4.5 algorithm**\n",
    "\n",
    "* The C4.5 algorithm is used in Data Mining as a Decision Tree Classifier which can be employed to generate a decision, based on a certain sample of data (univariate or multivariate predictors).\n",
    "\n",
    "* Advantages of C4.5 over other Decision Tree systems:\n",
    "1. The algorithm inherently employs Single Pass Pruning Process to Mitigate overfitting.\n",
    "2. It can work with both Discrete and Continuous Data\n",
    "3. C4.5 can handle the issue of incomplete data very well\n",
    "\n",
    "* We should also keep in mind that C4.5 is not the best algorithm out there but it does certainly prove to be useful in certain cases.\n",
    "\n",
    "\n",
    ">  **CART algorithm**\n",
    "\n",
    "* The CART algorithm is structured as a sequence of questions, the answers to which determine what the next question, if any should be.  The result of these questions is a tree like structure where the ends are terminal nodes at which point there are no more questions\n",
    "\n",
    "* Creating a CART model involves selecting input variables and split points on those variables until a suitable tree is constructed. The selection of which input variable to use and the specific split or cut-point is chosen using a greedy algorithm to minimize a cost function. Tree construction ends using a predefined stopping criterion, such as a minimum number of training instances assigned to each leaf node of the tree.\n",
    "\n",
    "* The representation for the CART model is a binary tree.\n",
    "Each root node represents a single input variable (x) and a split point on that variable (assuming the variable is numeric). The leaf nodes of the tree contain an output variable (y) which is used to make a prediction.\n",
    "\n",
    "\n",
    "\n",
    "> **CHAID algorithm**\n",
    "\n",
    "* CHAID (Chi-square Automatic Interaction Detector) analysis is an algorithm used for discovering relationships between a categorical response variable and other categorical predictor variables. It is useful when looking for patterns in datasets with lots of categorical variables and is a convenient way of summarising the data as the relationships can be easily visualised\n",
    "\n",
    "* As indicated in the name, CHAID uses Person’s Chi-square tests of independence, which test for an association between two categorical variables. A statistically significant result indicates that the two variables are not independent, i.e., there is a relationship between them.\n",
    "\n",
    "\n",
    "\n",
    "> **MARS algorithm**\n",
    "* Multivariant adaptive regression splines or MARS (also called Earth in many open-source implementations because MARS is a trademark) performs a similar function to least-squares regression, but is used when the relationship of one or more predictor variables to the dependent variable are thought to vary over its value range. A simple example would be the increase in air humidity caused by heating water, which would be much more rapid once the boiling point of 100 Celcius had been reached.\n",
    "\n",
    "* The output of a MARS regression is a set of basis functions whose outputs are added together. The most important of these are hinge functions with the form max(0,x-c) which has the effect of meaning that the function only becomes relevant for values of x that are greater than c, which is referred to as a knot.\n",
    "\n",
    "* MARS builds its models using a type of stepwise regression where predictor variables with candidate knots are added to the model one by one. However, MARS does not share the weaknesses of general stepwise regression:\n",
    "\n",
    "1. the set of predictor variables is still determined by the data scientist; MARS guarantees that all predictor variables will make it into the final model and only aims to find out the optimal knots.\n",
    " \n",
    "2. MARS contains an inbuilt solution to overfitting: following the stepwise regression step, all generated basis functions that do not contribute to the accuracy of the model above a certain threshold are pruned out, meaning that only the more efficient predictors remain in the final version.\n",
    "\n",
    "* The complexity of MARS means it requires considerably more training data than ordinary least-squares regression - at least an order of magnitude more. However, there are various optional constraints that the user can put on the procedure to simplify it. A MARS model is isomorphic with some types of decision tree used for value prediction, although the way the algorithms generate the models are different."
   ]
  },
  {
   "cell_type": "markdown",
   "metadata": {
    "colab_type": "text",
    "id": "1fKmeue1cSEY"
   },
   "source": [
    "# Random forest can be considered as an extension to decision tree models. Search and describe this model"
   ]
  },
  {
   "cell_type": "markdown",
   "metadata": {
    "colab_type": "text",
    "id": "60z6L4khdmm_"
   },
   "source": [
    "* Random forests or random decision forests are an ensemble learning method for classification, regression and other tasks that operate by constructing a multitude of decision trees at training time and outputting the class that is the mode of the classes (classification) or mean prediction (regression) of the individual trees. Random decision forests correct for decision trees' habit of overfitting to their training set\n",
    "\n",
    "* The fundamental concept behind random forest is a simple but powerful one — the wisdom of crowds. In data science speak, the reason that the random forest model works so well is: **A large number of relatively uncorrelated models (trees) operating as a committee will outperform any of the individual constituent models.**\n",
    "\n",
    "* The low correlation between models is the key.The reason for this wonderful effect is that the trees protect each other from their individual errors (as long as they don’t constantly all err in the same direction). While some trees may be wrong, many other trees will be right, so as a group the trees are able to move in the correct direction.\n",
    "\n",
    "* Steps to Ensure that the Models Diversify Each Other\n",
    "\n",
    "1. Bagging (Bootstrap Aggregation) - Decisions trees are very sensitive to the data they are trained on — small changes to the training set can result in significantly different tree structures. Random forest takes advantage of this by allowing each individual tree to randomly sample from the dataset with replacement, resulting in different trees. This process is known as bagging.\n",
    "\n",
    "2. Feature Randomness — In a normal decision tree, when it is time to split a node, we consider every possible feature and pick the one that produces the most separation between the observations in the left node vs. those in the right node. In contrast, each tree in a random forest can pick only from a random subset of features. This forces even more variation amongst the trees in the model and ultimately results in lower correlation across trees and more diversification.\n",
    "\n",
    "* So in our random forest, we end up with trees that are not only trained on different sets of data (thanks to bagging) but also use different features to make decisions."
   ]
  },
  {
   "cell_type": "markdown",
   "metadata": {
    "colab_type": "text",
    "id": "20tuPaTtgX7m"
   },
   "source": [
    "# Provide a brief description of dataset"
   ]
  },
  {
   "cell_type": "markdown",
   "metadata": {
    "colab_type": "text",
    "id": "al9pKgBMgn8I"
   },
   "source": [
    "Data processing\n"
   ]
  },
  {
   "cell_type": "code",
   "execution_count": 1,
   "metadata": {
    "colab": {},
    "colab_type": "code",
    "id": "Z2fawIirThSB"
   },
   "outputs": [],
   "source": [
    "import pandas as pd \n",
    "import warnings\n",
    "warnings.filterwarnings('ignore')"
   ]
  },
  {
   "cell_type": "markdown",
   "metadata": {
    "colab_type": "text",
    "id": "J97vUF4PgsD9"
   },
   "source": [
    "Reading the datafile"
   ]
  },
  {
   "cell_type": "code",
   "execution_count": 2,
   "metadata": {
    "colab": {},
    "colab_type": "code",
    "id": "QPqSP8cqFJ0Q"
   },
   "outputs": [],
   "source": [
    "import pandas as pd\n",
    "df = pd.read_csv('play_tennis.csv')\n",
    "df= df.drop(['day'], axis=1)\n"
   ]
  },
  {
   "cell_type": "markdown",
   "metadata": {
    "colab_type": "text",
    "id": "hn_B9iPriD8B"
   },
   "source": [
    "Check dimensions of the dataframe in terms of rows and columns"
   ]
  },
  {
   "cell_type": "code",
   "execution_count": 3,
   "metadata": {
    "colab": {
     "base_uri": "https://localhost:8080/"
    },
    "colab_type": "code",
    "id": "4dfJBN26gvXX",
    "outputId": "de784625-3f57-43e9-e3eb-252ebbe91388"
   },
   "outputs": [
    {
     "data": {
      "text/plain": [
       "(14, 5)"
      ]
     },
     "execution_count": 3,
     "metadata": {},
     "output_type": "execute_result"
    }
   ],
   "source": [
    "df.shape"
   ]
  },
  {
   "cell_type": "markdown",
   "metadata": {
    "colab_type": "text",
    "id": "NZlMmLngiIJJ"
   },
   "source": [
    "View the head of the data"
   ]
  },
  {
   "cell_type": "code",
   "execution_count": 4,
   "metadata": {
    "colab": {
     "base_uri": "https://localhost:8080/"
    },
    "colab_type": "code",
    "id": "4Cb0boLXiNr2",
    "outputId": "cd9d17c5-e41b-4b5e-a25d-2803d5d895fe"
   },
   "outputs": [
    {
     "data": {
      "text/html": [
       "<div>\n",
       "<style scoped>\n",
       "    .dataframe tbody tr th:only-of-type {\n",
       "        vertical-align: middle;\n",
       "    }\n",
       "\n",
       "    .dataframe tbody tr th {\n",
       "        vertical-align: top;\n",
       "    }\n",
       "\n",
       "    .dataframe thead th {\n",
       "        text-align: right;\n",
       "    }\n",
       "</style>\n",
       "<table border=\"1\" class=\"dataframe\">\n",
       "  <thead>\n",
       "    <tr style=\"text-align: right;\">\n",
       "      <th></th>\n",
       "      <th>outlook</th>\n",
       "      <th>temp</th>\n",
       "      <th>humidity</th>\n",
       "      <th>wind</th>\n",
       "      <th>play</th>\n",
       "    </tr>\n",
       "  </thead>\n",
       "  <tbody>\n",
       "    <tr>\n",
       "      <td>0</td>\n",
       "      <td>Sunny</td>\n",
       "      <td>Hot</td>\n",
       "      <td>High</td>\n",
       "      <td>Weak</td>\n",
       "      <td>No</td>\n",
       "    </tr>\n",
       "    <tr>\n",
       "      <td>1</td>\n",
       "      <td>Sunny</td>\n",
       "      <td>Hot</td>\n",
       "      <td>High</td>\n",
       "      <td>Strong</td>\n",
       "      <td>No</td>\n",
       "    </tr>\n",
       "    <tr>\n",
       "      <td>2</td>\n",
       "      <td>Overcast</td>\n",
       "      <td>Hot</td>\n",
       "      <td>High</td>\n",
       "      <td>Weak</td>\n",
       "      <td>Yes</td>\n",
       "    </tr>\n",
       "    <tr>\n",
       "      <td>3</td>\n",
       "      <td>Rain</td>\n",
       "      <td>Mild</td>\n",
       "      <td>High</td>\n",
       "      <td>Weak</td>\n",
       "      <td>Yes</td>\n",
       "    </tr>\n",
       "    <tr>\n",
       "      <td>4</td>\n",
       "      <td>Rain</td>\n",
       "      <td>Cool</td>\n",
       "      <td>Normal</td>\n",
       "      <td>Weak</td>\n",
       "      <td>Yes</td>\n",
       "    </tr>\n",
       "  </tbody>\n",
       "</table>\n",
       "</div>"
      ],
      "text/plain": [
       "    outlook  temp humidity    wind play\n",
       "0     Sunny   Hot     High    Weak   No\n",
       "1     Sunny   Hot     High  Strong   No\n",
       "2  Overcast   Hot     High    Weak  Yes\n",
       "3      Rain  Mild     High    Weak  Yes\n",
       "4      Rain  Cool   Normal    Weak  Yes"
      ]
     },
     "execution_count": 4,
     "metadata": {},
     "output_type": "execute_result"
    }
   ],
   "source": [
    "df.head(5)"
   ]
  },
  {
   "cell_type": "markdown",
   "metadata": {
    "colab_type": "text",
    "id": "AszmoBF9iZyO"
   },
   "source": [
    "Check the data types"
   ]
  },
  {
   "cell_type": "code",
   "execution_count": 5,
   "metadata": {
    "colab": {
     "base_uri": "https://localhost:8080/"
    },
    "colab_type": "code",
    "id": "nfBuTUJQicdG",
    "outputId": "045eb5cf-a1d4-4a50-9cc4-ac2c662fd55c"
   },
   "outputs": [
    {
     "data": {
      "text/plain": [
       "outlook     object\n",
       "temp        object\n",
       "humidity    object\n",
       "wind        object\n",
       "play        object\n",
       "dtype: object"
      ]
     },
     "execution_count": 5,
     "metadata": {},
     "output_type": "execute_result"
    }
   ],
   "source": [
    "df.dtypes"
   ]
  },
  {
   "cell_type": "markdown",
   "metadata": {
    "colab_type": "text",
    "id": "GwScH2KaiuTt"
   },
   "source": [
    "Check for Duplicates"
   ]
  },
  {
   "cell_type": "code",
   "execution_count": 6,
   "metadata": {
    "colab": {
     "base_uri": "https://localhost:8080/"
    },
    "colab_type": "code",
    "id": "u31WCnLJi20d",
    "outputId": "1b748ed3-0c14-4439-88e7-747807739191"
   },
   "outputs": [
    {
     "data": {
      "text/plain": [
       "0"
      ]
     },
     "execution_count": 6,
     "metadata": {},
     "output_type": "execute_result"
    }
   ],
   "source": [
    "sum(df.duplicated())"
   ]
  },
  {
   "cell_type": "markdown",
   "metadata": {
    "colab_type": "text",
    "id": "UpfN_ZmPkFJL"
   },
   "source": [
    "Since there are no duplicates, we don't need to drop any rows"
   ]
  },
  {
   "cell_type": "markdown",
   "metadata": {
    "colab_type": "text",
    "id": "VKbiJDKUi-WW"
   },
   "source": [
    "Check for null values"
   ]
  },
  {
   "cell_type": "code",
   "execution_count": 7,
   "metadata": {
    "colab": {
     "base_uri": "https://localhost:8080/"
    },
    "colab_type": "code",
    "id": "GDXQ_00wkO2R",
    "outputId": "371d9325-3841-4876-c4fd-453f2130a86c"
   },
   "outputs": [
    {
     "data": {
      "text/plain": [
       "outlook     0\n",
       "temp        0\n",
       "humidity    0\n",
       "wind        0\n",
       "play        0\n",
       "dtype: int64"
      ]
     },
     "execution_count": 7,
     "metadata": {},
     "output_type": "execute_result"
    }
   ],
   "source": [
    "df.isna().sum()"
   ]
  },
  {
   "cell_type": "markdown",
   "metadata": {
    "colab_type": "text",
    "id": "IJNvG93oku5n"
   },
   "source": [
    "There are no null or missing values in the dataset"
   ]
  },
  {
   "cell_type": "markdown",
   "metadata": {
    "colab_type": "text",
    "id": "DaOWdqIGk26u"
   },
   "source": [
    "Understand the variables"
   ]
  },
  {
   "cell_type": "markdown",
   "metadata": {
    "colab_type": "text",
    "id": "-DGCYPK5lQqO"
   },
   "source": [
    "**Variable 'outlook'**"
   ]
  },
  {
   "cell_type": "code",
   "execution_count": 8,
   "metadata": {
    "colab": {
     "base_uri": "https://localhost:8080/"
    },
    "colab_type": "code",
    "id": "VP9DanHVlVPL",
    "outputId": "4562ebf7-0dd3-4ee1-d5ef-9798cef20680"
   },
   "outputs": [
    {
     "data": {
      "text/plain": [
       "array(['Sunny', 'Overcast', 'Rain'], dtype=object)"
      ]
     },
     "execution_count": 8,
     "metadata": {},
     "output_type": "execute_result"
    }
   ],
   "source": [
    "df.outlook.unique()"
   ]
  },
  {
   "cell_type": "markdown",
   "metadata": {
    "colab_type": "text",
    "id": "vvJqSRxvlea4"
   },
   "source": [
    "This column has 3 unique values in the appropriate datatype"
   ]
  },
  {
   "cell_type": "markdown",
   "metadata": {
    "colab_type": "text",
    "id": "KBQAbyJ7luco"
   },
   "source": [
    "**Variable 'temp'**"
   ]
  },
  {
   "cell_type": "code",
   "execution_count": 9,
   "metadata": {
    "colab": {
     "base_uri": "https://localhost:8080/"
    },
    "colab_type": "code",
    "id": "tDhN59pClzxR",
    "outputId": "afe4b406-6b93-41d0-c2fc-7416ce8859e1"
   },
   "outputs": [
    {
     "data": {
      "text/plain": [
       "array(['Hot', 'Mild', 'Cool'], dtype=object)"
      ]
     },
     "execution_count": 9,
     "metadata": {},
     "output_type": "execute_result"
    }
   ],
   "source": [
    "df.temp.unique()"
   ]
  },
  {
   "cell_type": "markdown",
   "metadata": {
    "colab_type": "text",
    "id": "sSdnjYbsl9hm"
   },
   "source": [
    "This column has 3 unique values in the appropriate datatype"
   ]
  },
  {
   "cell_type": "markdown",
   "metadata": {
    "colab_type": "text",
    "id": "MTNWyJAsl_Rd"
   },
   "source": [
    "**Variable 'humidity'**"
   ]
  },
  {
   "cell_type": "code",
   "execution_count": 10,
   "metadata": {
    "colab": {
     "base_uri": "https://localhost:8080/"
    },
    "colab_type": "code",
    "id": "p4xhhWLcl5aA",
    "outputId": "ab4fd052-7f42-4678-a0a7-6009f8aa714d"
   },
   "outputs": [
    {
     "data": {
      "text/plain": [
       "array(['High', 'Normal'], dtype=object)"
      ]
     },
     "execution_count": 10,
     "metadata": {},
     "output_type": "execute_result"
    }
   ],
   "source": [
    "df.humidity.unique()"
   ]
  },
  {
   "cell_type": "markdown",
   "metadata": {
    "colab_type": "text",
    "id": "KOCeWCbXmGRM"
   },
   "source": [
    "This column has 2 unique values in the appropriate datatype"
   ]
  },
  {
   "cell_type": "markdown",
   "metadata": {
    "colab_type": "text",
    "id": "f6eTmslwmImM"
   },
   "source": [
    "**Variable 'wind'**"
   ]
  },
  {
   "cell_type": "code",
   "execution_count": 11,
   "metadata": {
    "colab": {
     "base_uri": "https://localhost:8080/"
    },
    "colab_type": "code",
    "id": "HF9uI8RAmQGu",
    "outputId": "40a2e2e2-80c7-476c-b424-c89e6acfd702"
   },
   "outputs": [
    {
     "data": {
      "text/plain": [
       "array(['Weak', 'Strong'], dtype=object)"
      ]
     },
     "execution_count": 11,
     "metadata": {},
     "output_type": "execute_result"
    }
   ],
   "source": [
    "df.wind.unique()"
   ]
  },
  {
   "cell_type": "markdown",
   "metadata": {
    "colab_type": "text",
    "id": "0f5ygfAQmVhx"
   },
   "source": [
    "This column has 2 unique values in the appropriate datatype"
   ]
  },
  {
   "cell_type": "markdown",
   "metadata": {
    "colab_type": "text",
    "id": "FLY10C4Oma2v"
   },
   "source": [
    "**Variable 'play'**"
   ]
  },
  {
   "cell_type": "code",
   "execution_count": 12,
   "metadata": {
    "colab": {
     "base_uri": "https://localhost:8080/"
    },
    "colab_type": "code",
    "id": "EoBI8QYjmfn7",
    "outputId": "2174885a-2285-45f4-8ffb-66ef1d9cd2c5"
   },
   "outputs": [
    {
     "data": {
      "text/plain": [
       "array(['No', 'Yes'], dtype=object)"
      ]
     },
     "execution_count": 12,
     "metadata": {},
     "output_type": "execute_result"
    }
   ],
   "source": [
    "df.play.unique()"
   ]
  },
  {
   "cell_type": "markdown",
   "metadata": {
    "colab_type": "text",
    "id": "LDfADgskmh9W"
   },
   "source": [
    "This column has 2 unique values in the appropriate datatype"
   ]
  },
  {
   "cell_type": "markdown",
   "metadata": {
    "colab_type": "text",
    "id": "Lujt5yflm1qd"
   },
   "source": [
    "Study summary statistics"
   ]
  },
  {
   "cell_type": "code",
   "execution_count": 13,
   "metadata": {
    "colab": {
     "base_uri": "https://localhost:8080/"
    },
    "colab_type": "code",
    "id": "IvV8CjEzm4Hc",
    "outputId": "b9e593fd-9d69-4250-e46c-603378670ede"
   },
   "outputs": [
    {
     "data": {
      "text/html": [
       "<div>\n",
       "<style scoped>\n",
       "    .dataframe tbody tr th:only-of-type {\n",
       "        vertical-align: middle;\n",
       "    }\n",
       "\n",
       "    .dataframe tbody tr th {\n",
       "        vertical-align: top;\n",
       "    }\n",
       "\n",
       "    .dataframe thead th {\n",
       "        text-align: right;\n",
       "    }\n",
       "</style>\n",
       "<table border=\"1\" class=\"dataframe\">\n",
       "  <thead>\n",
       "    <tr style=\"text-align: right;\">\n",
       "      <th></th>\n",
       "      <th>outlook</th>\n",
       "      <th>temp</th>\n",
       "      <th>humidity</th>\n",
       "      <th>wind</th>\n",
       "      <th>play</th>\n",
       "    </tr>\n",
       "  </thead>\n",
       "  <tbody>\n",
       "    <tr>\n",
       "      <td>count</td>\n",
       "      <td>14</td>\n",
       "      <td>14</td>\n",
       "      <td>14</td>\n",
       "      <td>14</td>\n",
       "      <td>14</td>\n",
       "    </tr>\n",
       "    <tr>\n",
       "      <td>unique</td>\n",
       "      <td>3</td>\n",
       "      <td>3</td>\n",
       "      <td>2</td>\n",
       "      <td>2</td>\n",
       "      <td>2</td>\n",
       "    </tr>\n",
       "    <tr>\n",
       "      <td>top</td>\n",
       "      <td>Sunny</td>\n",
       "      <td>Mild</td>\n",
       "      <td>High</td>\n",
       "      <td>Weak</td>\n",
       "      <td>Yes</td>\n",
       "    </tr>\n",
       "    <tr>\n",
       "      <td>freq</td>\n",
       "      <td>5</td>\n",
       "      <td>6</td>\n",
       "      <td>7</td>\n",
       "      <td>8</td>\n",
       "      <td>9</td>\n",
       "    </tr>\n",
       "  </tbody>\n",
       "</table>\n",
       "</div>"
      ],
      "text/plain": [
       "       outlook  temp humidity  wind play\n",
       "count       14    14       14    14   14\n",
       "unique       3     3        2     2    2\n",
       "top      Sunny  Mild     High  Weak  Yes\n",
       "freq         5     6        7     8    9"
      ]
     },
     "execution_count": 13,
     "metadata": {},
     "output_type": "execute_result"
    }
   ],
   "source": [
    "df.describe()"
   ]
  },
  {
   "cell_type": "markdown",
   "metadata": {
    "colab_type": "text",
    "id": "PNy0XTbcnAAN"
   },
   "source": [
    "It shows the number of values in a particular column, number of unique values in that and which cell value has the most occurence in that specific column"
   ]
  },
  {
   "cell_type": "markdown",
   "metadata": {
    "colab_type": "text",
    "id": "yK5lBsstnVGa"
   },
   "source": [
    "# We want to create a predictive model using decision trees. Which algorithm do you suggest for this purpose? Justify your answer"
   ]
  },
  {
   "cell_type": "markdown",
   "metadata": {
    "colab_type": "text",
    "id": "BbxTdXGwnm43"
   },
   "source": [
    "Considering the type of data which we have which is catagorical data for he columns 'outlook' , 'temp' , 'humidity', 'wind' and 'play' each at the most have 3 unique values, ID3 algorithm is the best to create a predictive model using decision trees for this dataset.\n",
    "ID3 is used to generate a decision tree from a dataset by employing a top down, greedy searcxh, to search each attribute at every node of the tree."
   ]
  },
  {
   "cell_type": "markdown",
   "metadata": {
    "colab_type": "text",
    "id": "f16G9FhLpnXM"
   },
   "source": [
    "# Create the decision tree showing all the intermediate steps. Provide the obtained set of classifaction rules. Is the model consistent?"
   ]
  },
  {
   "cell_type": "markdown",
   "metadata": {
    "colab_type": "text",
    "id": "EX2jtMvXp_d6"
   },
   "source": [
    "Seperating the dataset into target attributes and prediciting attributes"
   ]
  },
  {
   "cell_type": "code",
   "execution_count": 14,
   "metadata": {
    "colab": {
     "base_uri": "https://localhost:8080/",
     "height": 51
    },
    "colab_type": "code",
    "id": "fx86JhKzDzgy",
    "outputId": "0698adf4-6327-40ca-81da-6d17984e2cd2"
   },
   "outputs": [
    {
     "name": "stdout",
     "output_type": "stream",
     "text": [
      "Target Attribute is:  play\n",
      "Predicting Attributes:  ['outlook', 'temp', 'humidity', 'wind']\n"
     ]
    }
   ],
   "source": [
    "t = df.keys()[-1]\n",
    "print('Target Attribute is: ', t)\n",
    "# Get the attribute names from input dataset\n",
    "attribute_names = list(df.keys())\n",
    "#Remove the target attribute from the attribute names list\n",
    "attribute_names.remove(t) \n",
    "print('Predicting Attributes: ', attribute_names)"
   ]
  },
  {
   "cell_type": "markdown",
   "metadata": {
    "colab_type": "text",
    "id": "qwBM6I18qN61"
   },
   "source": [
    "Function to calculate the entropy of collection"
   ]
  },
  {
   "cell_type": "code",
   "execution_count": 15,
   "metadata": {
    "colab": {},
    "colab_type": "code",
    "id": "IvRa12QrJI-L"
   },
   "outputs": [],
   "source": [
    "\n",
    "import math\n",
    "def entropy(probs):  \n",
    "    return sum( [-prob*math.log(prob, 2) for prob in probs])\n",
    "    "
   ]
  },
  {
   "cell_type": "markdown",
   "metadata": {
    "colab_type": "text",
    "id": "zl05taP_qTse"
   },
   "source": [
    "Function to calulate the entropy of the given Data Sets/List with respect to target attributes"
   ]
  },
  {
   "cell_type": "code",
   "execution_count": 16,
   "metadata": {
    "colab": {},
    "colab_type": "code",
    "id": "7U31iLA3qZ76"
   },
   "outputs": [],
   "source": [
    "def entropy_of_list(ls,value):  \n",
    "    from collections import Counter\n",
    "    cnt = Counter(x for x in ls)# Counter calculates the propotion of class\n",
    "    print('Target attribute class count(Yes/No)=',dict(cnt))\n",
    "    total_instances = len(ls)  \n",
    "    print(\"Total no of instances/records associated with {0} is: {1}\".format(value,total_instances ))\n",
    "    probs = [x / total_instances for x in cnt.values()]  # x means no of YES/NO\n",
    "    print(\"Probability of Class {0} is: {1:.4f}\".format(min(cnt),min(probs)))\n",
    "    print(\"Probability of Class {0} is: {1:.4f}\".format(max(cnt),max(probs)))\n",
    "    return entropy(probs)"
   ]
  },
  {
   "cell_type": "markdown",
   "metadata": {
    "colab_type": "text",
    "id": "Qy-anD42qmE2"
   },
   "source": [
    "Calculate Information Gain:"
   ]
  },
  {
   "cell_type": "code",
   "execution_count": 17,
   "metadata": {
    "colab": {},
    "colab_type": "code",
    "id": "uyclKk19Jalp"
   },
   "outputs": [],
   "source": [
    "def information_gain(df, split_attribute, target_attribute,battr):\n",
    "    print(\"\\n\\n-----Information Gain Calculation of \",split_attribute, \" --------\") \n",
    "    df_split = df.groupby(split_attribute) # group the data based on attribute values\n",
    "    glist=[]\n",
    "    for gname,group in df_split:\n",
    "        print('Grouped Attribute Values \\n',group)\n",
    "        glist.append(gname) \n",
    "    \n",
    "    glist.reverse()\n",
    "    nobs = len(df.index) * 1.0   \n",
    "    df_agg1=df_split.agg({target_attribute:lambda x:entropy_of_list(x, glist.pop())})\n",
    "    df_agg2=df_split.agg({target_attribute :lambda x:len(x)/nobs})\n",
    "    \n",
    "    df_agg1.columns=['Entropy']\n",
    "    df_agg2.columns=['Proportion']\n",
    "    \n",
    "    new_entropy = sum( df_agg1['Entropy'] * df_agg2['Proportion'])\n",
    "    if battr !='S':\n",
    "        old_entropy = entropy_of_list(df[target_attribute],'S-'+df.iloc[0][df.columns.get_loc(battr)])\n",
    "    else:\n",
    "        old_entropy = entropy_of_list(df[target_attribute],battr)\n",
    "    return old_entropy - new_entropy"
   ]
  },
  {
   "cell_type": "markdown",
   "metadata": {
    "colab_type": "text",
    "id": "2NSguISMnc4w"
   },
   "source": [
    "Implementing the ID3 algorithm for the decision treee"
   ]
  },
  {
   "cell_type": "code",
   "execution_count": 18,
   "metadata": {
    "colab": {},
    "colab_type": "code",
    "id": "-EaTatlVLD5i"
   },
   "outputs": [],
   "source": [
    "def id3(df, target_attribute, attribute_names, default_class=None,default_attr='S'):\n",
    "    \n",
    "    from collections import Counter\n",
    "    cnt = Counter(x for x in df[target_attribute])\n",
    "    \n",
    "    if len(cnt) == 1:\n",
    "        return next(iter(cnt))\n",
    "    elif df.empty or (not attribute_names):\n",
    "        return default_class\n",
    "    else:  \n",
    "        default_class = max(cnt.keys()) \n",
    "        gainz=[]\n",
    "        for attr in attribute_names:\n",
    "            ig= information_gain(df, attr, target_attribute,default_attr)\n",
    "            gainz.append(ig)\n",
    "            print('Information gain: ',attr,' is : ',ig)\n",
    "        \n",
    "        index_of_max = gainz.index(max(gainz))              \n",
    "        best_attr = attribute_names[index_of_max]           \n",
    "        print(\"\\nMax gain attribute is: \", best_attr)\n",
    "        tree = {best_attr:{}} \n",
    "        remaining_attribute_names =[i for i in attribute_names if i != best_attr]\n",
    "        for attr_val, data_subset in df.groupby(best_attr):\n",
    "            subtree = id3(data_subset,target_attribute, remaining_attribute_names,default_class,best_attr)\n",
    "            tree[best_attr][attr_val] = subtree\n",
    "        return tree"
   ]
  },
  {
   "cell_type": "markdown",
   "metadata": {
    "colab_type": "text",
    "id": "K736lBB5qyG8"
   },
   "source": [
    "\n",
    "Printing the resultant Decision Tree"
   ]
  },
  {
   "cell_type": "code",
   "execution_count": 19,
   "metadata": {
    "colab": {
     "base_uri": "https://localhost:8080/",
     "height": 1000
    },
    "colab_type": "code",
    "id": "UHroAS1IN0Zt",
    "outputId": "7e70b706-ecca-4c1e-ed4a-bddfad22954e"
   },
   "outputs": [
    {
     "name": "stdout",
     "output_type": "stream",
     "text": [
      "\n",
      "\n",
      "-----Information Gain Calculation of  outlook  --------\n",
      "Grouped Attribute Values \n",
      "      outlook  temp humidity    wind play\n",
      "2   Overcast   Hot     High    Weak  Yes\n",
      "6   Overcast  Cool   Normal  Strong  Yes\n",
      "11  Overcast  Mild     High  Strong  Yes\n",
      "12  Overcast   Hot   Normal    Weak  Yes\n",
      "Grouped Attribute Values \n",
      "    outlook  temp humidity    wind play\n",
      "3     Rain  Mild     High    Weak  Yes\n",
      "4     Rain  Cool   Normal    Weak  Yes\n",
      "5     Rain  Cool   Normal  Strong   No\n",
      "9     Rain  Mild   Normal    Weak  Yes\n",
      "13    Rain  Mild     High  Strong   No\n",
      "Grouped Attribute Values \n",
      "    outlook  temp humidity    wind play\n",
      "0    Sunny   Hot     High    Weak   No\n",
      "1    Sunny   Hot     High  Strong   No\n",
      "7    Sunny  Mild     High    Weak   No\n",
      "8    Sunny  Cool   Normal    Weak  Yes\n",
      "10   Sunny  Mild   Normal  Strong  Yes\n",
      "Target attribute class count(Yes/No)= {'Yes': 4}\n",
      "Total no of instances/records associated with Overcast is: 4\n",
      "Probability of Class Yes is: 1.0000\n",
      "Probability of Class Yes is: 1.0000\n",
      "Target attribute class count(Yes/No)= {'Yes': 3, 'No': 2}\n",
      "Total no of instances/records associated with Rain is: 5\n",
      "Probability of Class No is: 0.4000\n",
      "Probability of Class Yes is: 0.6000\n",
      "Target attribute class count(Yes/No)= {'No': 3, 'Yes': 2}\n",
      "Total no of instances/records associated with Sunny is: 5\n",
      "Probability of Class No is: 0.4000\n",
      "Probability of Class Yes is: 0.6000\n",
      "Target attribute class count(Yes/No)= {'No': 5, 'Yes': 9}\n",
      "Total no of instances/records associated with S is: 14\n",
      "Probability of Class No is: 0.3571\n",
      "Probability of Class Yes is: 0.6429\n",
      "Information gain:  outlook  is :  0.2467498197744391\n",
      "\n",
      "\n",
      "-----Information Gain Calculation of  temp  --------\n",
      "Grouped Attribute Values \n",
      "     outlook  temp humidity    wind play\n",
      "4      Rain  Cool   Normal    Weak  Yes\n",
      "5      Rain  Cool   Normal  Strong   No\n",
      "6  Overcast  Cool   Normal  Strong  Yes\n",
      "8     Sunny  Cool   Normal    Weak  Yes\n",
      "Grouped Attribute Values \n",
      "      outlook temp humidity    wind play\n",
      "0      Sunny  Hot     High    Weak   No\n",
      "1      Sunny  Hot     High  Strong   No\n",
      "2   Overcast  Hot     High    Weak  Yes\n",
      "12  Overcast  Hot   Normal    Weak  Yes\n",
      "Grouped Attribute Values \n",
      "      outlook  temp humidity    wind play\n",
      "3       Rain  Mild     High    Weak  Yes\n",
      "7      Sunny  Mild     High    Weak   No\n",
      "9       Rain  Mild   Normal    Weak  Yes\n",
      "10     Sunny  Mild   Normal  Strong  Yes\n",
      "11  Overcast  Mild     High  Strong  Yes\n",
      "13      Rain  Mild     High  Strong   No\n",
      "Target attribute class count(Yes/No)= {'Yes': 3, 'No': 1}\n",
      "Total no of instances/records associated with Cool is: 4\n",
      "Probability of Class No is: 0.2500\n",
      "Probability of Class Yes is: 0.7500\n",
      "Target attribute class count(Yes/No)= {'No': 2, 'Yes': 2}\n",
      "Total no of instances/records associated with Hot is: 4\n",
      "Probability of Class No is: 0.5000\n",
      "Probability of Class Yes is: 0.5000\n",
      "Target attribute class count(Yes/No)= {'Yes': 4, 'No': 2}\n",
      "Total no of instances/records associated with Mild is: 6\n",
      "Probability of Class No is: 0.3333\n",
      "Probability of Class Yes is: 0.6667\n",
      "Target attribute class count(Yes/No)= {'No': 5, 'Yes': 9}\n",
      "Total no of instances/records associated with S is: 14\n",
      "Probability of Class No is: 0.3571\n",
      "Probability of Class Yes is: 0.6429\n",
      "Information gain:  temp  is :  0.029222565658954647\n",
      "\n",
      "\n",
      "-----Information Gain Calculation of  humidity  --------\n",
      "Grouped Attribute Values \n",
      "      outlook  temp humidity    wind play\n",
      "0      Sunny   Hot     High    Weak   No\n",
      "1      Sunny   Hot     High  Strong   No\n",
      "2   Overcast   Hot     High    Weak  Yes\n",
      "3       Rain  Mild     High    Weak  Yes\n",
      "7      Sunny  Mild     High    Weak   No\n",
      "11  Overcast  Mild     High  Strong  Yes\n",
      "13      Rain  Mild     High  Strong   No\n",
      "Grouped Attribute Values \n",
      "      outlook  temp humidity    wind play\n",
      "4       Rain  Cool   Normal    Weak  Yes\n",
      "5       Rain  Cool   Normal  Strong   No\n",
      "6   Overcast  Cool   Normal  Strong  Yes\n",
      "8      Sunny  Cool   Normal    Weak  Yes\n",
      "9       Rain  Mild   Normal    Weak  Yes\n",
      "10     Sunny  Mild   Normal  Strong  Yes\n",
      "12  Overcast   Hot   Normal    Weak  Yes\n",
      "Target attribute class count(Yes/No)= {'No': 4, 'Yes': 3}\n",
      "Total no of instances/records associated with High is: 7\n",
      "Probability of Class No is: 0.4286\n",
      "Probability of Class Yes is: 0.5714\n",
      "Target attribute class count(Yes/No)= {'Yes': 6, 'No': 1}\n",
      "Total no of instances/records associated with Normal is: 7\n",
      "Probability of Class No is: 0.1429\n",
      "Probability of Class Yes is: 0.8571\n",
      "Target attribute class count(Yes/No)= {'No': 5, 'Yes': 9}\n",
      "Total no of instances/records associated with S is: 14\n",
      "Probability of Class No is: 0.3571\n",
      "Probability of Class Yes is: 0.6429\n",
      "Information gain:  humidity  is :  0.15183550136234136\n",
      "\n",
      "\n",
      "-----Information Gain Calculation of  wind  --------\n",
      "Grouped Attribute Values \n",
      "      outlook  temp humidity    wind play\n",
      "1      Sunny   Hot     High  Strong   No\n",
      "5       Rain  Cool   Normal  Strong   No\n",
      "6   Overcast  Cool   Normal  Strong  Yes\n",
      "10     Sunny  Mild   Normal  Strong  Yes\n",
      "11  Overcast  Mild     High  Strong  Yes\n",
      "13      Rain  Mild     High  Strong   No\n",
      "Grouped Attribute Values \n",
      "      outlook  temp humidity  wind play\n",
      "0      Sunny   Hot     High  Weak   No\n",
      "2   Overcast   Hot     High  Weak  Yes\n",
      "3       Rain  Mild     High  Weak  Yes\n",
      "4       Rain  Cool   Normal  Weak  Yes\n",
      "7      Sunny  Mild     High  Weak   No\n",
      "8      Sunny  Cool   Normal  Weak  Yes\n",
      "9       Rain  Mild   Normal  Weak  Yes\n",
      "12  Overcast   Hot   Normal  Weak  Yes\n",
      "Target attribute class count(Yes/No)= {'No': 3, 'Yes': 3}\n",
      "Total no of instances/records associated with Strong is: 6\n",
      "Probability of Class No is: 0.5000\n",
      "Probability of Class Yes is: 0.5000\n",
      "Target attribute class count(Yes/No)= {'No': 2, 'Yes': 6}\n",
      "Total no of instances/records associated with Weak is: 8\n",
      "Probability of Class No is: 0.2500\n",
      "Probability of Class Yes is: 0.7500\n",
      "Target attribute class count(Yes/No)= {'No': 5, 'Yes': 9}\n",
      "Total no of instances/records associated with S is: 14\n",
      "Probability of Class No is: 0.3571\n",
      "Probability of Class Yes is: 0.6429\n",
      "Information gain:  wind  is :  0.04812703040826927\n",
      "\n",
      "Max gain attribute is:  outlook\n",
      "\n",
      "\n",
      "-----Information Gain Calculation of  temp  --------\n",
      "Grouped Attribute Values \n",
      "   outlook  temp humidity    wind play\n",
      "4    Rain  Cool   Normal    Weak  Yes\n",
      "5    Rain  Cool   Normal  Strong   No\n",
      "Grouped Attribute Values \n",
      "    outlook  temp humidity    wind play\n",
      "3     Rain  Mild     High    Weak  Yes\n",
      "9     Rain  Mild   Normal    Weak  Yes\n",
      "13    Rain  Mild     High  Strong   No\n",
      "Target attribute class count(Yes/No)= {'Yes': 1, 'No': 1}\n",
      "Total no of instances/records associated with Cool is: 2\n",
      "Probability of Class No is: 0.5000\n",
      "Probability of Class Yes is: 0.5000\n",
      "Target attribute class count(Yes/No)= {'Yes': 2, 'No': 1}\n",
      "Total no of instances/records associated with Mild is: 3\n",
      "Probability of Class No is: 0.3333\n",
      "Probability of Class Yes is: 0.6667\n",
      "Target attribute class count(Yes/No)= {'Yes': 3, 'No': 2}\n",
      "Total no of instances/records associated with S-Rain is: 5\n",
      "Probability of Class No is: 0.4000\n",
      "Probability of Class Yes is: 0.6000\n",
      "Information gain:  temp  is :  0.01997309402197489\n",
      "\n",
      "\n",
      "-----Information Gain Calculation of  humidity  --------\n",
      "Grouped Attribute Values \n",
      "    outlook  temp humidity    wind play\n",
      "3     Rain  Mild     High    Weak  Yes\n",
      "13    Rain  Mild     High  Strong   No\n",
      "Grouped Attribute Values \n",
      "   outlook  temp humidity    wind play\n",
      "4    Rain  Cool   Normal    Weak  Yes\n",
      "5    Rain  Cool   Normal  Strong   No\n",
      "9    Rain  Mild   Normal    Weak  Yes\n",
      "Target attribute class count(Yes/No)= {'Yes': 1, 'No': 1}\n",
      "Total no of instances/records associated with High is: 2\n",
      "Probability of Class No is: 0.5000\n",
      "Probability of Class Yes is: 0.5000\n",
      "Target attribute class count(Yes/No)= {'Yes': 2, 'No': 1}\n",
      "Total no of instances/records associated with Normal is: 3\n",
      "Probability of Class No is: 0.3333\n",
      "Probability of Class Yes is: 0.6667\n",
      "Target attribute class count(Yes/No)= {'Yes': 3, 'No': 2}\n",
      "Total no of instances/records associated with S-Rain is: 5\n",
      "Probability of Class No is: 0.4000\n",
      "Probability of Class Yes is: 0.6000\n",
      "Information gain:  humidity  is :  0.01997309402197489\n",
      "\n",
      "\n",
      "-----Information Gain Calculation of  wind  --------\n",
      "Grouped Attribute Values \n",
      "    outlook  temp humidity    wind play\n",
      "5     Rain  Cool   Normal  Strong   No\n",
      "13    Rain  Mild     High  Strong   No\n",
      "Grouped Attribute Values \n",
      "   outlook  temp humidity  wind play\n",
      "3    Rain  Mild     High  Weak  Yes\n",
      "4    Rain  Cool   Normal  Weak  Yes\n",
      "9    Rain  Mild   Normal  Weak  Yes\n",
      "Target attribute class count(Yes/No)= {'No': 2}\n",
      "Total no of instances/records associated with Strong is: 2\n",
      "Probability of Class No is: 1.0000\n",
      "Probability of Class No is: 1.0000\n",
      "Target attribute class count(Yes/No)= {'Yes': 3}\n",
      "Total no of instances/records associated with Weak is: 3\n",
      "Probability of Class Yes is: 1.0000\n",
      "Probability of Class Yes is: 1.0000\n",
      "Target attribute class count(Yes/No)= {'Yes': 3, 'No': 2}\n",
      "Total no of instances/records associated with S-Rain is: 5\n",
      "Probability of Class No is: 0.4000\n",
      "Probability of Class Yes is: 0.6000\n",
      "Information gain:  wind  is :  0.9709505944546686\n",
      "\n",
      "Max gain attribute is:  wind\n",
      "\n",
      "\n",
      "-----Information Gain Calculation of  temp  --------\n",
      "Grouped Attribute Values \n",
      "   outlook  temp humidity  wind play\n",
      "8   Sunny  Cool   Normal  Weak  Yes\n",
      "Grouped Attribute Values \n",
      "   outlook temp humidity    wind play\n",
      "0   Sunny  Hot     High    Weak   No\n",
      "1   Sunny  Hot     High  Strong   No\n",
      "Grouped Attribute Values \n",
      "    outlook  temp humidity    wind play\n",
      "7    Sunny  Mild     High    Weak   No\n",
      "10   Sunny  Mild   Normal  Strong  Yes\n",
      "Target attribute class count(Yes/No)= {'Yes': 1}\n",
      "Total no of instances/records associated with Cool is: 1\n",
      "Probability of Class Yes is: 1.0000\n",
      "Probability of Class Yes is: 1.0000\n",
      "Target attribute class count(Yes/No)= {'No': 2}\n",
      "Total no of instances/records associated with Hot is: 2\n",
      "Probability of Class No is: 1.0000\n",
      "Probability of Class No is: 1.0000\n",
      "Target attribute class count(Yes/No)= {'No': 1, 'Yes': 1}\n",
      "Total no of instances/records associated with Mild is: 2\n",
      "Probability of Class No is: 0.5000\n",
      "Probability of Class Yes is: 0.5000\n",
      "Target attribute class count(Yes/No)= {'No': 3, 'Yes': 2}\n",
      "Total no of instances/records associated with S-Sunny is: 5\n",
      "Probability of Class No is: 0.4000\n",
      "Probability of Class Yes is: 0.6000\n",
      "Information gain:  temp  is :  0.5709505944546686\n",
      "\n",
      "\n",
      "-----Information Gain Calculation of  humidity  --------\n",
      "Grouped Attribute Values \n",
      "   outlook  temp humidity    wind play\n",
      "0   Sunny   Hot     High    Weak   No\n",
      "1   Sunny   Hot     High  Strong   No\n",
      "7   Sunny  Mild     High    Weak   No\n",
      "Grouped Attribute Values \n",
      "    outlook  temp humidity    wind play\n",
      "8    Sunny  Cool   Normal    Weak  Yes\n",
      "10   Sunny  Mild   Normal  Strong  Yes\n",
      "Target attribute class count(Yes/No)= {'No': 3}\n",
      "Total no of instances/records associated with High is: 3\n",
      "Probability of Class No is: 1.0000\n",
      "Probability of Class No is: 1.0000\n",
      "Target attribute class count(Yes/No)= {'Yes': 2}\n",
      "Total no of instances/records associated with Normal is: 2\n",
      "Probability of Class Yes is: 1.0000\n",
      "Probability of Class Yes is: 1.0000\n",
      "Target attribute class count(Yes/No)= {'No': 3, 'Yes': 2}\n",
      "Total no of instances/records associated with S-Sunny is: 5\n",
      "Probability of Class No is: 0.4000\n",
      "Probability of Class Yes is: 0.6000\n",
      "Information gain:  humidity  is :  0.9709505944546686\n",
      "\n",
      "\n",
      "-----Information Gain Calculation of  wind  --------\n",
      "Grouped Attribute Values \n",
      "    outlook  temp humidity    wind play\n",
      "1    Sunny   Hot     High  Strong   No\n",
      "10   Sunny  Mild   Normal  Strong  Yes\n",
      "Grouped Attribute Values \n",
      "   outlook  temp humidity  wind play\n",
      "0   Sunny   Hot     High  Weak   No\n",
      "7   Sunny  Mild     High  Weak   No\n",
      "8   Sunny  Cool   Normal  Weak  Yes\n",
      "Target attribute class count(Yes/No)= {'No': 1, 'Yes': 1}\n",
      "Total no of instances/records associated with Strong is: 2\n",
      "Probability of Class No is: 0.5000\n",
      "Probability of Class Yes is: 0.5000\n",
      "Target attribute class count(Yes/No)= {'No': 2, 'Yes': 1}\n",
      "Total no of instances/records associated with Weak is: 3\n",
      "Probability of Class No is: 0.3333\n",
      "Probability of Class Yes is: 0.6667\n",
      "Target attribute class count(Yes/No)= {'No': 3, 'Yes': 2}\n",
      "Total no of instances/records associated with S-Sunny is: 5\n",
      "Probability of Class No is: 0.4000\n",
      "Probability of Class Yes is: 0.6000\n",
      "Information gain:  wind  is :  0.01997309402197489\n",
      "\n",
      "Max gain attribute is:  humidity\n",
      "Decision tree:\n",
      "{'outlook': {'Overcast': 'Yes',\n",
      "             'Rain': {'wind': {'Strong': 'No', 'Weak': 'Yes'}},\n",
      "             'Sunny': {'humidity': {'High': 'No', 'Normal': 'Yes'}}}}\n"
     ]
    }
   ],
   "source": [
    "from pprint import pprint\n",
    "tree = id3(df,t,attribute_names)\n",
    "print(\"Decision tree:\")\n",
    "pprint(tree)"
   ]
  },
  {
   "cell_type": "code",
   "execution_count": 20,
   "metadata": {
    "colab": {},
    "colab_type": "code",
    "id": "AgqIPioMOMDi"
   },
   "outputs": [],
   "source": [
    "def classify(instance, tree,default=None):    \n",
    "    attribute = next(iter(tree))       \n",
    "    if instance[attribute] in tree[attribute].keys(): \n",
    "        result = tree[attribute][instance[attribute]]\n",
    "        if isinstance(result, dict):\n",
    "            return classify(instance, result)\n",
    "        else:\n",
    "            return result \n",
    "    else:\n",
    "        return default"
   ]
  },
  {
   "cell_type": "code",
   "execution_count": 21,
   "metadata": {
    "colab": {
     "base_uri": "https://localhost:8080/",
     "height": 272
    },
    "colab_type": "code",
    "id": "YgQKAzHqOUM8",
    "outputId": "09c04ba1-8e24-4b03-972c-d2bbdc32df3e"
   },
   "outputs": [
    {
     "name": "stdout",
     "output_type": "stream",
     "text": [
      "     outlook  temp humidity    wind predicted play\n",
      "0      Sunny   Hot     High    Weak        No   No\n",
      "1      Sunny   Hot     High  Strong        No   No\n",
      "2   Overcast   Hot     High    Weak       Yes  Yes\n",
      "3       Rain  Mild     High    Weak       Yes  Yes\n",
      "4       Rain  Cool   Normal    Weak       Yes  Yes\n",
      "5       Rain  Cool   Normal  Strong        No   No\n",
      "6   Overcast  Cool   Normal  Strong       Yes  Yes\n",
      "7      Sunny  Mild     High    Weak        No   No\n",
      "8      Sunny  Cool   Normal    Weak       Yes  Yes\n",
      "9       Rain  Mild   Normal    Weak       Yes  Yes\n",
      "10     Sunny  Mild   Normal  Strong       Yes  Yes\n",
      "11  Overcast  Mild     High  Strong       Yes  Yes\n",
      "12  Overcast   Hot   Normal    Weak       Yes  Yes\n",
      "13      Rain  Mild     High  Strong        No   No\n"
     ]
    }
   ],
   "source": [
    "df_new=df.drop('play',axis=1)\n",
    "df_new['predicted'] = df_new.apply(classify, axis=1, args=(tree,'?'))\n",
    "df_new['play'] = df['play']\n",
    "print(df_new)"
   ]
  },
  {
   "cell_type": "markdown",
   "metadata": {
    "colab_type": "text",
    "id": "j8K8STRxLmoe"
   },
   "source": [
    "# Using the convenient tool evaluate the model. Does it generalize well?"
   ]
  },
  {
   "cell_type": "markdown",
   "metadata": {
    "colab_type": "text",
    "id": "yIsYF3PfL2PA"
   },
   "source": [
    "Mapping integer values to the output column, 'play'"
   ]
  },
  {
   "cell_type": "code",
   "execution_count": 22,
   "metadata": {
    "colab": {},
    "colab_type": "code",
    "id": "H-UD74tSMARa"
   },
   "outputs": [],
   "source": [
    "df['play']=df['play'].map({'No': 0, 'Yes': 1})"
   ]
  },
  {
   "cell_type": "markdown",
   "metadata": {
    "colab_type": "text",
    "id": "8wzKCYpZMDzW"
   },
   "source": [
    "Splitting the data into test and train"
   ]
  },
  {
   "cell_type": "code",
   "execution_count": 23,
   "metadata": {
    "colab": {},
    "colab_type": "code",
    "id": "7dospx-RMKAU"
   },
   "outputs": [],
   "source": [
    "from sklearn.model_selection import train_test_split\n",
    "\n",
    "\n",
    "X = df.drop(['play'], axis=1)\n",
    "Y = df['play']\n",
    "X_train, X_test, Y_train, Y_test = train_test_split(X, Y, test_size = 0.2)"
   ]
  },
  {
   "cell_type": "markdown",
   "metadata": {
    "colab_type": "text",
    "id": "8knwjcvjMTKU"
   },
   "source": [
    "Using Label Encoder to convert categorical data"
   ]
  },
  {
   "cell_type": "code",
   "execution_count": 24,
   "metadata": {
    "colab": {
     "base_uri": "https://localhost:8080/",
     "height": 241
    },
    "colab_type": "code",
    "id": "ZQAxZbdZMaIv",
    "outputId": "549442a1-5bbb-40ad-9771-32284ded1322"
   },
   "outputs": [],
   "source": [
    "from sklearn import preprocessing\n",
    "\n",
    "categorical = ['outlook', 'temp', 'humidity', 'wind']\n",
    "for feature in categorical:\n",
    "        le = preprocessing.LabelEncoder()\n",
    "        X_train[feature] = le.fit_transform(X_train[feature])\n",
    "        X_test[feature] = le.transform(X_test[feature])"
   ]
  },
  {
   "cell_type": "markdown",
   "metadata": {
    "colab_type": "text",
    "id": "aftuHm8IMmR0"
   },
   "source": [
    "Applying the decision tree classifier"
   ]
  },
  {
   "cell_type": "code",
   "execution_count": 25,
   "metadata": {
    "colab": {},
    "colab_type": "code",
    "id": "M8Uy6qO3M8uZ"
   },
   "outputs": [],
   "source": [
    "from sklearn.tree import DecisionTreeClassifier\n",
    "from sklearn import metrics \n",
    "decision_tree = DecisionTreeClassifier()\n",
    "decision_tree.fit(X_train, Y_train)\n",
    "Y_pred = decision_tree.predict(X_test)\n"
   ]
  },
  {
   "cell_type": "markdown",
   "metadata": {
    "colab_type": "text",
    "id": "vevksy-8Rjp6"
   },
   "source": [
    "Evaluating the model"
   ]
  },
  {
   "cell_type": "code",
   "execution_count": 26,
   "metadata": {
    "colab": {
     "base_uri": "https://localhost:8080/",
     "height": 34
    },
    "colab_type": "code",
    "id": "3l2YVXkoRkkB",
    "outputId": "07ccaf83-50ba-44e5-e06a-25c8daa1a0a6"
   },
   "outputs": [
    {
     "name": "stdout",
     "output_type": "stream",
     "text": [
      "0.6666666666666666\n"
     ]
    }
   ],
   "source": [
    "acc_decision_tree_ans=metrics.accuracy_score(Y_test,Y_pred)\n",
    "print(acc_decision_tree_ans)"
   ]
  },
  {
   "cell_type": "markdown",
   "metadata": {
    "colab_type": "text",
    "id": "ZPfI0SU2Rvvn"
   },
   "source": [
    "Since we have achieved an accuracy of only 66%, we can say it does not generalise well because it has less amount of data"
   ]
  },
  {
   "cell_type": "markdown",
   "metadata": {
    "colab_type": "text",
    "id": "jJUx9oBI4yLF"
   },
   "source": [
    "#Now consider Teperature as a continuous column. Calculate the information gain for this attribute.(Show all the steps)"
   ]
  },
  {
   "cell_type": "markdown",
   "metadata": {
    "colab_type": "text",
    "id": "lhtdse7k65PU"
   },
   "source": [
    "Reading the datafile"
   ]
  },
  {
   "cell_type": "code",
   "execution_count": 27,
   "metadata": {
    "colab": {},
    "colab_type": "code",
    "id": "j_k-lSPg8d4G"
   },
   "outputs": [],
   "source": [
    "data = pd.read_csv(\"play.csv\")\n",
    "data = data.drop(['day'], axis=1)"
   ]
  },
  {
   "cell_type": "markdown",
   "metadata": {
    "colab_type": "text",
    "id": "kB3gJqoP8pFn"
   },
   "source": [
    "Check dimensions of the dataframe in terms of rows and columns"
   ]
  },
  {
   "cell_type": "code",
   "execution_count": 28,
   "metadata": {
    "colab": {
     "base_uri": "https://localhost:8080/",
     "height": 34
    },
    "colab_type": "code",
    "id": "Vekli3-H8qQj",
    "outputId": "8dad1072-e270-43fa-f430-1f4bb7d91274"
   },
   "outputs": [
    {
     "data": {
      "text/plain": [
       "(14, 5)"
      ]
     },
     "execution_count": 28,
     "metadata": {},
     "output_type": "execute_result"
    }
   ],
   "source": [
    "data.shape"
   ]
  },
  {
   "cell_type": "markdown",
   "metadata": {
    "colab_type": "text",
    "id": "m2WDSCrm83Pr"
   },
   "source": [
    "View the head of the data"
   ]
  },
  {
   "cell_type": "code",
   "execution_count": 29,
   "metadata": {
    "colab": {
     "base_uri": "https://localhost:8080/",
     "height": 204
    },
    "colab_type": "code",
    "id": "hbG_W0WV84iF",
    "outputId": "a8cd9e2e-cb03-45ce-b43f-15a01f9e1e76"
   },
   "outputs": [
    {
     "data": {
      "text/html": [
       "<div>\n",
       "<style scoped>\n",
       "    .dataframe tbody tr th:only-of-type {\n",
       "        vertical-align: middle;\n",
       "    }\n",
       "\n",
       "    .dataframe tbody tr th {\n",
       "        vertical-align: top;\n",
       "    }\n",
       "\n",
       "    .dataframe thead th {\n",
       "        text-align: right;\n",
       "    }\n",
       "</style>\n",
       "<table border=\"1\" class=\"dataframe\">\n",
       "  <thead>\n",
       "    <tr style=\"text-align: right;\">\n",
       "      <th></th>\n",
       "      <th>outlook</th>\n",
       "      <th>temp</th>\n",
       "      <th>humidity</th>\n",
       "      <th>wind</th>\n",
       "      <th>play</th>\n",
       "    </tr>\n",
       "  </thead>\n",
       "  <tbody>\n",
       "    <tr>\n",
       "      <td>0</td>\n",
       "      <td>Sunny</td>\n",
       "      <td>17.0</td>\n",
       "      <td>High</td>\n",
       "      <td>Weak</td>\n",
       "      <td>No</td>\n",
       "    </tr>\n",
       "    <tr>\n",
       "      <td>1</td>\n",
       "      <td>Sunny</td>\n",
       "      <td>20.5</td>\n",
       "      <td>High</td>\n",
       "      <td>Strong</td>\n",
       "      <td>No</td>\n",
       "    </tr>\n",
       "    <tr>\n",
       "      <td>2</td>\n",
       "      <td>Overcast</td>\n",
       "      <td>26.5</td>\n",
       "      <td>High</td>\n",
       "      <td>Weak</td>\n",
       "      <td>Yes</td>\n",
       "    </tr>\n",
       "    <tr>\n",
       "      <td>3</td>\n",
       "      <td>Rain</td>\n",
       "      <td>20.0</td>\n",
       "      <td>High</td>\n",
       "      <td>Weak</td>\n",
       "      <td>Yes</td>\n",
       "    </tr>\n",
       "    <tr>\n",
       "      <td>4</td>\n",
       "      <td>Rain</td>\n",
       "      <td>19.0</td>\n",
       "      <td>Normal</td>\n",
       "      <td>Weak</td>\n",
       "      <td>Yes</td>\n",
       "    </tr>\n",
       "  </tbody>\n",
       "</table>\n",
       "</div>"
      ],
      "text/plain": [
       "    outlook  temp humidity    wind play\n",
       "0     Sunny  17.0     High    Weak   No\n",
       "1     Sunny  20.5     High  Strong   No\n",
       "2  Overcast  26.5     High    Weak  Yes\n",
       "3      Rain  20.0     High    Weak  Yes\n",
       "4      Rain  19.0   Normal    Weak  Yes"
      ]
     },
     "execution_count": 29,
     "metadata": {},
     "output_type": "execute_result"
    }
   ],
   "source": [
    "data.head(5)"
   ]
  },
  {
   "cell_type": "code",
   "execution_count": 30,
   "metadata": {
    "colab": {
     "base_uri": "https://localhost:8080/",
     "height": 297
    },
    "colab_type": "code",
    "id": "_JtDJ-Xi_MHJ",
    "outputId": "c4757cb5-a9e5-4ce0-f9c3-e3abf2399bef"
   },
   "outputs": [
    {
     "data": {
      "text/html": [
       "<div>\n",
       "<style scoped>\n",
       "    .dataframe tbody tr th:only-of-type {\n",
       "        vertical-align: middle;\n",
       "    }\n",
       "\n",
       "    .dataframe tbody tr th {\n",
       "        vertical-align: top;\n",
       "    }\n",
       "\n",
       "    .dataframe thead th {\n",
       "        text-align: right;\n",
       "    }\n",
       "</style>\n",
       "<table border=\"1\" class=\"dataframe\">\n",
       "  <thead>\n",
       "    <tr style=\"text-align: right;\">\n",
       "      <th></th>\n",
       "      <th>temp</th>\n",
       "    </tr>\n",
       "  </thead>\n",
       "  <tbody>\n",
       "    <tr>\n",
       "      <td>count</td>\n",
       "      <td>14.000000</td>\n",
       "    </tr>\n",
       "    <tr>\n",
       "      <td>mean</td>\n",
       "      <td>21.857143</td>\n",
       "    </tr>\n",
       "    <tr>\n",
       "      <td>std</td>\n",
       "      <td>3.370851</td>\n",
       "    </tr>\n",
       "    <tr>\n",
       "      <td>min</td>\n",
       "      <td>17.000000</td>\n",
       "    </tr>\n",
       "    <tr>\n",
       "      <td>25%</td>\n",
       "      <td>19.625000</td>\n",
       "    </tr>\n",
       "    <tr>\n",
       "      <td>50%</td>\n",
       "      <td>21.000000</td>\n",
       "    </tr>\n",
       "    <tr>\n",
       "      <td>75%</td>\n",
       "      <td>24.750000</td>\n",
       "    </tr>\n",
       "    <tr>\n",
       "      <td>max</td>\n",
       "      <td>27.500000</td>\n",
       "    </tr>\n",
       "  </tbody>\n",
       "</table>\n",
       "</div>"
      ],
      "text/plain": [
       "            temp\n",
       "count  14.000000\n",
       "mean   21.857143\n",
       "std     3.370851\n",
       "min    17.000000\n",
       "25%    19.625000\n",
       "50%    21.000000\n",
       "75%    24.750000\n",
       "max    27.500000"
      ]
     },
     "execution_count": 30,
     "metadata": {},
     "output_type": "execute_result"
    }
   ],
   "source": [
    "data.describe()"
   ]
  },
  {
   "cell_type": "markdown",
   "metadata": {
    "colab_type": "text",
    "id": "_UZXASoZ-CVu"
   },
   "source": [
    "Since the 'temp' variable has continuous values, we can apply the process of binning and convert it into categorical values\n"
   ]
  },
  {
   "cell_type": "markdown",
   "metadata": {
    "colab_type": "text",
    "id": "tdeINwEjham0"
   },
   "source": [
    "Seperating the dataset into target attributes and prediciting attributes"
   ]
  },
  {
   "cell_type": "code",
   "execution_count": 31,
   "metadata": {
    "colab": {
     "base_uri": "https://localhost:8080/",
     "height": 51
    },
    "colab_type": "code",
    "id": "lgT3idT3hY7e",
    "outputId": "67047f1c-7fa9-4766-a78a-7ee07cd24308"
   },
   "outputs": [
    {
     "name": "stdout",
     "output_type": "stream",
     "text": [
      "Target Attribute is:  play\n",
      "Predicting Attributes:  temp\n"
     ]
    }
   ],
   "source": [
    "tar = data.keys()[-1]\n",
    "print('Target Attribute is: ', tar)\n",
    "# Get the attribute names from input dataset\n",
    "att = data.keys()[1]\n",
    "print('Predicting Attributes: ', att)"
   ]
  },
  {
   "cell_type": "markdown",
   "metadata": {
    "colab_type": "text",
    "id": "cVntVeLtic6A"
   },
   "source": [
    "Calculate Information Gain:"
   ]
  },
  {
   "cell_type": "code",
   "execution_count": 32,
   "metadata": {
    "colab": {},
    "colab_type": "code",
    "id": "F2A6sw7rijRc"
   },
   "outputs": [],
   "source": [
    "def informationgain(data, split_attribute, target_attribute,battr):\n",
    "    print(\"\\n\\n-----Information Gain Calculation of \",split_attribute, \" --------\") \n",
    "    data_split = data.groupby(split_attribute) # group the data based on attribute values\n",
    "    glist=[]\n",
    "    for gname,group in data_split:\n",
    "        print('Grouped Attribute Values \\n',group)\n",
    "        glist.append(gname) \n",
    "    \n",
    "    glist.reverse()\n",
    "    nobs = len(data.index) * 1.0   \n",
    "    data_agg1=data_split.agg({target_attribute:lambda x:entropy_of_list(x, glist.pop())})\n",
    "    data_agg2=data_split.agg({target_attribute :lambda x:len(x)/nobs})\n",
    "    \n",
    "    data_agg1.columns=['Entropy']\n",
    "    data_agg2.columns=['Proportion']\n",
    "    \n",
    "    new_entropy = sum( data_agg1['Entropy'] * data_agg2['Proportion'])\n",
    "    if battr !='S':\n",
    "        old_entropy = entropy_of_list(data[target_attribute],'S-'+data.iloc[0][data.columns.get_loc(battr)])\n",
    "    else:\n",
    "        old_entropy = entropy_of_list(data[target_attribute],battr)\n",
    "    return old_entropy - new_entropy"
   ]
  },
  {
   "cell_type": "markdown",
   "metadata": {
    "colab_type": "text",
    "id": "UTZqW8ukiiGf"
   },
   "source": [
    "Print Information Gain"
   ]
  },
  {
   "cell_type": "code",
   "execution_count": 33,
   "metadata": {
    "colab": {
     "base_uri": "https://localhost:8080/",
     "height": 1000
    },
    "colab_type": "code",
    "id": "bW0cJso3i9zH",
    "outputId": "4a7159d8-17f1-4dfc-e540-b54421536dca"
   },
   "outputs": [
    {
     "name": "stdout",
     "output_type": "stream",
     "text": [
      "\n",
      "\n",
      "-----Information Gain Calculation of  temp  --------\n",
      "Grouped Attribute Values \n",
      "   outlook  temp humidity  wind play\n",
      "0   Sunny  17.0     High  Weak   No\n",
      "Grouped Attribute Values \n",
      "   outlook  temp humidity    wind play\n",
      "5    Rain  17.5   Normal  Strong   No\n",
      "Grouped Attribute Values \n",
      "   outlook  temp humidity  wind play\n",
      "4    Rain  19.0   Normal  Weak  Yes\n",
      "Grouped Attribute Values \n",
      "   outlook  temp humidity  wind play\n",
      "8   Sunny  19.5   Normal  Weak  Yes\n",
      "Grouped Attribute Values \n",
      "   outlook  temp humidity  wind play\n",
      "3    Rain  20.0     High  Weak  Yes\n",
      "Grouped Attribute Values \n",
      "   outlook  temp humidity    wind play\n",
      "1   Sunny  20.5     High  Strong   No\n",
      "Grouped Attribute Values \n",
      "   outlook  temp humidity  wind play\n",
      "7   Sunny  21.0     High  Weak   No\n",
      "9    Rain  21.0   Normal  Weak  Yes\n",
      "Grouped Attribute Values \n",
      "      outlook  temp humidity    wind play\n",
      "10     Sunny  22.5   Normal  Strong  Yes\n",
      "11  Overcast  22.5     High  Strong  Yes\n",
      "Grouped Attribute Values \n",
      "      outlook  temp humidity  wind play\n",
      "12  Overcast  25.5   Normal  Weak  Yes\n",
      "Grouped Attribute Values \n",
      "    outlook  temp humidity    wind play\n",
      "13    Rain  26.0     High  Strong   No\n",
      "Grouped Attribute Values \n",
      "     outlook  temp humidity  wind play\n",
      "2  Overcast  26.5     High  Weak  Yes\n",
      "Grouped Attribute Values \n",
      "     outlook  temp humidity    wind play\n",
      "6  Overcast  27.5   Normal  Strong  Yes\n",
      "Target attribute class count(Yes/No)= {'No': 1}\n",
      "Total no of instances/records associated with 17.0 is: 1\n",
      "Probability of Class No is: 1.0000\n",
      "Probability of Class No is: 1.0000\n",
      "Target attribute class count(Yes/No)= {'No': 1}\n",
      "Total no of instances/records associated with 17.5 is: 1\n",
      "Probability of Class No is: 1.0000\n",
      "Probability of Class No is: 1.0000\n",
      "Target attribute class count(Yes/No)= {'Yes': 1}\n",
      "Total no of instances/records associated with 19.0 is: 1\n",
      "Probability of Class Yes is: 1.0000\n",
      "Probability of Class Yes is: 1.0000\n",
      "Target attribute class count(Yes/No)= {'Yes': 1}\n",
      "Total no of instances/records associated with 19.5 is: 1\n",
      "Probability of Class Yes is: 1.0000\n",
      "Probability of Class Yes is: 1.0000\n",
      "Target attribute class count(Yes/No)= {'Yes': 1}\n",
      "Total no of instances/records associated with 20.0 is: 1\n",
      "Probability of Class Yes is: 1.0000\n",
      "Probability of Class Yes is: 1.0000\n",
      "Target attribute class count(Yes/No)= {'No': 1}\n",
      "Total no of instances/records associated with 20.5 is: 1\n",
      "Probability of Class No is: 1.0000\n",
      "Probability of Class No is: 1.0000\n",
      "Target attribute class count(Yes/No)= {'No': 1, 'Yes': 1}\n",
      "Total no of instances/records associated with 21.0 is: 2\n",
      "Probability of Class No is: 0.5000\n",
      "Probability of Class Yes is: 0.5000\n",
      "Target attribute class count(Yes/No)= {'Yes': 2}\n",
      "Total no of instances/records associated with 22.5 is: 2\n",
      "Probability of Class Yes is: 1.0000\n",
      "Probability of Class Yes is: 1.0000\n",
      "Target attribute class count(Yes/No)= {'Yes': 1}\n",
      "Total no of instances/records associated with 25.5 is: 1\n",
      "Probability of Class Yes is: 1.0000\n",
      "Probability of Class Yes is: 1.0000\n",
      "Target attribute class count(Yes/No)= {'No': 1}\n",
      "Total no of instances/records associated with 26.0 is: 1\n",
      "Probability of Class No is: 1.0000\n",
      "Probability of Class No is: 1.0000\n",
      "Target attribute class count(Yes/No)= {'Yes': 1}\n",
      "Total no of instances/records associated with 26.5 is: 1\n",
      "Probability of Class Yes is: 1.0000\n",
      "Probability of Class Yes is: 1.0000\n",
      "Target attribute class count(Yes/No)= {'Yes': 1}\n",
      "Total no of instances/records associated with 27.5 is: 1\n",
      "Probability of Class Yes is: 1.0000\n",
      "Probability of Class Yes is: 1.0000\n",
      "Target attribute class count(Yes/No)= {'No': 5, 'Yes': 9}\n",
      "Total no of instances/records associated with S is: 14\n",
      "Probability of Class No is: 0.3571\n",
      "Probability of Class Yes is: 0.6429\n",
      "\n",
      "The Resultant Information Gain is:\n",
      "0.7974288158134881\n"
     ]
    }
   ],
   "source": [
    "from pprint import pprint\n",
    "ig= informationgain(data, att, tar,'S')\n",
    "print(\"\\nThe Resultant Information Gain is:\")\n",
    "pprint(ig)"
   ]
  },
  {
   "cell_type": "markdown",
   "metadata": {
    "colab_type": "text",
    "id": "MLMTEp1tt-lL"
   },
   "source": [
    "The resultant information gain is 79%"
   ]
  },
  {
   "cell_type": "markdown",
   "metadata": {
    "colab_type": "text",
    "id": "kB-8o8aMmF3Q"
   },
   "source": [
    "# Using an appropriate tool provide the decision tree in this case and all the possible interpretations that can be made"
   ]
  },
  {
   "cell_type": "code",
   "execution_count": 34,
   "metadata": {
    "colab": {
     "base_uri": "https://localhost:8080/",
     "height": 119
    },
    "colab_type": "code",
    "id": "9-U732yMaq-6",
    "outputId": "d8efb04f-5093-411d-f60e-3fc4417bbda4"
   },
   "outputs": [
    {
     "data": {
      "text/plain": [
       "outlook     object\n",
       "temp         int64\n",
       "humidity    object\n",
       "wind        object\n",
       "play        object\n",
       "dtype: object"
      ]
     },
     "execution_count": 34,
     "metadata": {},
     "output_type": "execute_result"
    }
   ],
   "source": [
    "data.head()\n",
    "data['temp']=data['temp'].astype(\"int64\")\n",
    "data.dtypes"
   ]
  },
  {
   "cell_type": "markdown",
   "metadata": {
    "colab_type": "text",
    "id": "hv9B5ZsQnLmg"
   },
   "source": [
    "Using the method of binning to convert continuous data into categorical data"
   ]
  },
  {
   "cell_type": "code",
   "execution_count": 35,
   "metadata": {
    "colab": {},
    "colab_type": "code",
    "id": "h-RibFVEa562"
   },
   "outputs": [],
   "source": [
    "\n",
    "data.loc[data['temp']<22,'temp']=1\n",
    "data.loc[ (data['temp']>=22) & (data['temp']<=25) ,'temp']=2\n",
    "data.loc[data['temp']>=25,'temp']=3\n",
    "data.dtypes\n",
    "\n",
    "data['temp']=data['temp'].astype(str)"
   ]
  },
  {
   "cell_type": "code",
   "execution_count": 36,
   "metadata": {
    "colab": {},
    "colab_type": "code",
    "id": "R7REEsrhf6hM"
   },
   "outputs": [],
   "source": [
    "weather_dict={\"1\":\"cold\",\"2\":\"mild\" , \"3\":\"hot\"}"
   ]
  },
  {
   "cell_type": "code",
   "execution_count": 37,
   "metadata": {
    "colab": {},
    "colab_type": "code",
    "id": "voDZ222jgxuu"
   },
   "outputs": [],
   "source": [
    "ans_val=[]\n",
    "for i in data['temp']:\n",
    "  if i in weather_dict:\n",
    "    ans_val.append(weather_dict[i])\n",
    "data['temp']=ans_val\n",
    "\n",
    "\n"
   ]
  },
  {
   "cell_type": "markdown",
   "metadata": {
    "colab_type": "text",
    "id": "XtR978E2nmCM"
   },
   "source": [
    "Implementing the ID3 algorithm for the decision treee"
   ]
  },
  {
   "cell_type": "code",
   "execution_count": 38,
   "metadata": {
    "colab": {},
    "colab_type": "code",
    "id": "iD3erFtbnR8D"
   },
   "outputs": [],
   "source": [
    "def id3(df, target_attribute, attribute_names, default_class=None,default_attr='S'):\n",
    "    \n",
    "    from collections import Counter\n",
    "    cnt = Counter(x for x in df[target_attribute])\n",
    "    \n",
    "    \n",
    "    if len(cnt) == 1:\n",
    "        return next(iter(cnt))  \n",
    "    \n",
    "    elif df.empty or (not attribute_names):\n",
    "        return default_class  \n",
    "    else:\n",
    "        \n",
    "        default_class = max(cnt.keys())\n",
    "        gainz=[]\n",
    "        for attr in attribute_names:\n",
    "            ig= information_gain(df, attr, target_attribute,default_attr)\n",
    "            gainz.append(ig)\n",
    "            print('Information gain :',attr,' is : ',ig)\n",
    "        \n",
    "        index_of_max = gainz.index(max(gainz))             \n",
    "        best_attr = attribute_names[index_of_max]          \n",
    "        print(\"\\nMax gain attribute is: \", best_attr)\n",
    "       \n",
    "        tree = {best_attr:{}} \n",
    "        remaining_attribute_names =[i for i in attribute_names if i != best_attr]\n",
    "  \n",
    "        for attr_val, data_subset in df.groupby(best_attr):\n",
    "            subtree = id3(data_subset,target_attribute, remaining_attribute_names,default_class,best_attr)\n",
    "            tree[best_attr][attr_val] = subtree\n",
    "        return tree"
   ]
  },
  {
   "cell_type": "markdown",
   "metadata": {
    "colab_type": "text",
    "id": "s6f50anfnZvf"
   },
   "source": [
    "Printing the resultant Decision Tree"
   ]
  },
  {
   "cell_type": "code",
   "execution_count": 39,
   "metadata": {
    "colab": {
     "base_uri": "https://localhost:8080/",
     "height": 1000
    },
    "colab_type": "code",
    "id": "JFyZ7xhfna0S",
    "outputId": "1204cfa5-a42b-4ee9-fc31-e717ac66e648"
   },
   "outputs": [
    {
     "name": "stdout",
     "output_type": "stream",
     "text": [
      "\n",
      "\n",
      "-----Information Gain Calculation of  outlook  --------\n",
      "Grouped Attribute Values \n",
      "      outlook  temp humidity    wind play\n",
      "2   Overcast   hot     High    Weak  Yes\n",
      "6   Overcast   hot   Normal  Strong  Yes\n",
      "11  Overcast  mild     High  Strong  Yes\n",
      "12  Overcast  mild   Normal    Weak  Yes\n",
      "Grouped Attribute Values \n",
      "    outlook  temp humidity    wind play\n",
      "3     Rain  cold     High    Weak  Yes\n",
      "4     Rain  cold   Normal    Weak  Yes\n",
      "5     Rain  cold   Normal  Strong   No\n",
      "9     Rain  cold   Normal    Weak  Yes\n",
      "13    Rain   hot     High  Strong   No\n",
      "Grouped Attribute Values \n",
      "    outlook  temp humidity    wind play\n",
      "0    Sunny  cold     High    Weak   No\n",
      "1    Sunny  cold     High  Strong   No\n",
      "7    Sunny  cold     High    Weak   No\n",
      "8    Sunny  cold   Normal    Weak  Yes\n",
      "10   Sunny  mild   Normal  Strong  Yes\n",
      "Target attribute class count(Yes/No)= {'Yes': 4}\n",
      "Total no of instances/records associated with Overcast is: 4\n",
      "Probability of Class Yes is: 1.0000\n",
      "Probability of Class Yes is: 1.0000\n",
      "Target attribute class count(Yes/No)= {'Yes': 3, 'No': 2}\n",
      "Total no of instances/records associated with Rain is: 5\n",
      "Probability of Class No is: 0.4000\n",
      "Probability of Class Yes is: 0.6000\n",
      "Target attribute class count(Yes/No)= {'No': 3, 'Yes': 2}\n",
      "Total no of instances/records associated with Sunny is: 5\n",
      "Probability of Class No is: 0.4000\n",
      "Probability of Class Yes is: 0.6000\n",
      "Target attribute class count(Yes/No)= {'No': 5, 'Yes': 9}\n",
      "Total no of instances/records associated with S is: 14\n",
      "Probability of Class No is: 0.3571\n",
      "Probability of Class Yes is: 0.6429\n",
      "Information gain : outlook  is :  0.2467498197744391\n",
      "\n",
      "\n",
      "-----Information Gain Calculation of  temp  --------\n",
      "Grouped Attribute Values \n",
      "   outlook  temp humidity    wind play\n",
      "0   Sunny  cold     High    Weak   No\n",
      "1   Sunny  cold     High  Strong   No\n",
      "3    Rain  cold     High    Weak  Yes\n",
      "4    Rain  cold   Normal    Weak  Yes\n",
      "5    Rain  cold   Normal  Strong   No\n",
      "7   Sunny  cold     High    Weak   No\n",
      "8   Sunny  cold   Normal    Weak  Yes\n",
      "9    Rain  cold   Normal    Weak  Yes\n",
      "Grouped Attribute Values \n",
      "      outlook temp humidity    wind play\n",
      "2   Overcast  hot     High    Weak  Yes\n",
      "6   Overcast  hot   Normal  Strong  Yes\n",
      "13      Rain  hot     High  Strong   No\n",
      "Grouped Attribute Values \n",
      "      outlook  temp humidity    wind play\n",
      "10     Sunny  mild   Normal  Strong  Yes\n",
      "11  Overcast  mild     High  Strong  Yes\n",
      "12  Overcast  mild   Normal    Weak  Yes\n",
      "Target attribute class count(Yes/No)= {'No': 4, 'Yes': 4}\n",
      "Total no of instances/records associated with cold is: 8\n",
      "Probability of Class No is: 0.5000\n",
      "Probability of Class Yes is: 0.5000\n",
      "Target attribute class count(Yes/No)= {'Yes': 2, 'No': 1}\n",
      "Total no of instances/records associated with hot is: 3\n",
      "Probability of Class No is: 0.3333\n",
      "Probability of Class Yes is: 0.6667\n",
      "Target attribute class count(Yes/No)= {'Yes': 3}\n",
      "Total no of instances/records associated with mild is: 3\n",
      "Probability of Class Yes is: 1.0000\n",
      "Probability of Class Yes is: 1.0000\n",
      "Target attribute class count(Yes/No)= {'No': 5, 'Yes': 9}\n",
      "Total no of instances/records associated with S is: 14\n",
      "Probability of Class No is: 0.3571\n",
      "Probability of Class Yes is: 0.6429\n",
      "Information gain : temp  is :  0.17207970851609744\n",
      "\n",
      "\n",
      "-----Information Gain Calculation of  humidity  --------\n",
      "Grouped Attribute Values \n",
      "      outlook  temp humidity    wind play\n",
      "0      Sunny  cold     High    Weak   No\n",
      "1      Sunny  cold     High  Strong   No\n",
      "2   Overcast   hot     High    Weak  Yes\n",
      "3       Rain  cold     High    Weak  Yes\n",
      "7      Sunny  cold     High    Weak   No\n",
      "11  Overcast  mild     High  Strong  Yes\n",
      "13      Rain   hot     High  Strong   No\n",
      "Grouped Attribute Values \n",
      "      outlook  temp humidity    wind play\n",
      "4       Rain  cold   Normal    Weak  Yes\n",
      "5       Rain  cold   Normal  Strong   No\n",
      "6   Overcast   hot   Normal  Strong  Yes\n",
      "8      Sunny  cold   Normal    Weak  Yes\n",
      "9       Rain  cold   Normal    Weak  Yes\n",
      "10     Sunny  mild   Normal  Strong  Yes\n",
      "12  Overcast  mild   Normal    Weak  Yes\n",
      "Target attribute class count(Yes/No)= {'No': 4, 'Yes': 3}\n",
      "Total no of instances/records associated with High is: 7\n",
      "Probability of Class No is: 0.4286\n",
      "Probability of Class Yes is: 0.5714\n",
      "Target attribute class count(Yes/No)= {'Yes': 6, 'No': 1}\n",
      "Total no of instances/records associated with Normal is: 7\n",
      "Probability of Class No is: 0.1429\n",
      "Probability of Class Yes is: 0.8571\n",
      "Target attribute class count(Yes/No)= {'No': 5, 'Yes': 9}\n",
      "Total no of instances/records associated with S is: 14\n",
      "Probability of Class No is: 0.3571\n",
      "Probability of Class Yes is: 0.6429\n",
      "Information gain : humidity  is :  0.15183550136234136\n",
      "\n",
      "\n",
      "-----Information Gain Calculation of  wind  --------\n",
      "Grouped Attribute Values \n",
      "      outlook  temp humidity    wind play\n",
      "1      Sunny  cold     High  Strong   No\n",
      "5       Rain  cold   Normal  Strong   No\n",
      "6   Overcast   hot   Normal  Strong  Yes\n",
      "10     Sunny  mild   Normal  Strong  Yes\n",
      "11  Overcast  mild     High  Strong  Yes\n",
      "13      Rain   hot     High  Strong   No\n",
      "Grouped Attribute Values \n",
      "      outlook  temp humidity  wind play\n",
      "0      Sunny  cold     High  Weak   No\n",
      "2   Overcast   hot     High  Weak  Yes\n",
      "3       Rain  cold     High  Weak  Yes\n",
      "4       Rain  cold   Normal  Weak  Yes\n",
      "7      Sunny  cold     High  Weak   No\n",
      "8      Sunny  cold   Normal  Weak  Yes\n",
      "9       Rain  cold   Normal  Weak  Yes\n",
      "12  Overcast  mild   Normal  Weak  Yes\n",
      "Target attribute class count(Yes/No)= {'No': 3, 'Yes': 3}\n",
      "Total no of instances/records associated with Strong is: 6\n",
      "Probability of Class No is: 0.5000\n",
      "Probability of Class Yes is: 0.5000\n",
      "Target attribute class count(Yes/No)= {'No': 2, 'Yes': 6}\n",
      "Total no of instances/records associated with Weak is: 8\n",
      "Probability of Class No is: 0.2500\n",
      "Probability of Class Yes is: 0.7500\n",
      "Target attribute class count(Yes/No)= {'No': 5, 'Yes': 9}\n",
      "Total no of instances/records associated with S is: 14\n",
      "Probability of Class No is: 0.3571\n",
      "Probability of Class Yes is: 0.6429\n",
      "Information gain : wind  is :  0.04812703040826927\n",
      "\n",
      "Max gain attribute is:  outlook\n",
      "\n",
      "\n",
      "-----Information Gain Calculation of  temp  --------\n",
      "Grouped Attribute Values \n",
      "   outlook  temp humidity    wind play\n",
      "3    Rain  cold     High    Weak  Yes\n",
      "4    Rain  cold   Normal    Weak  Yes\n",
      "5    Rain  cold   Normal  Strong   No\n",
      "9    Rain  cold   Normal    Weak  Yes\n",
      "Grouped Attribute Values \n",
      "    outlook temp humidity    wind play\n",
      "13    Rain  hot     High  Strong   No\n",
      "Target attribute class count(Yes/No)= {'Yes': 3, 'No': 1}\n",
      "Total no of instances/records associated with cold is: 4\n",
      "Probability of Class No is: 0.2500\n",
      "Probability of Class Yes is: 0.7500\n",
      "Target attribute class count(Yes/No)= {'No': 1}\n",
      "Total no of instances/records associated with hot is: 1\n",
      "Probability of Class No is: 1.0000\n",
      "Probability of Class No is: 1.0000\n",
      "Target attribute class count(Yes/No)= {'Yes': 3, 'No': 2}\n",
      "Total no of instances/records associated with S-Rain is: 5\n",
      "Probability of Class No is: 0.4000\n",
      "Probability of Class Yes is: 0.6000\n",
      "Information gain : temp  is :  0.3219280948873623\n",
      "\n",
      "\n",
      "-----Information Gain Calculation of  humidity  --------\n",
      "Grouped Attribute Values \n",
      "    outlook  temp humidity    wind play\n",
      "3     Rain  cold     High    Weak  Yes\n",
      "13    Rain   hot     High  Strong   No\n",
      "Grouped Attribute Values \n",
      "   outlook  temp humidity    wind play\n",
      "4    Rain  cold   Normal    Weak  Yes\n",
      "5    Rain  cold   Normal  Strong   No\n",
      "9    Rain  cold   Normal    Weak  Yes\n",
      "Target attribute class count(Yes/No)= {'Yes': 1, 'No': 1}\n",
      "Total no of instances/records associated with High is: 2\n",
      "Probability of Class No is: 0.5000\n",
      "Probability of Class Yes is: 0.5000\n",
      "Target attribute class count(Yes/No)= {'Yes': 2, 'No': 1}\n",
      "Total no of instances/records associated with Normal is: 3\n",
      "Probability of Class No is: 0.3333\n",
      "Probability of Class Yes is: 0.6667\n",
      "Target attribute class count(Yes/No)= {'Yes': 3, 'No': 2}\n",
      "Total no of instances/records associated with S-Rain is: 5\n",
      "Probability of Class No is: 0.4000\n",
      "Probability of Class Yes is: 0.6000\n",
      "Information gain : humidity  is :  0.01997309402197489\n",
      "\n",
      "\n",
      "-----Information Gain Calculation of  wind  --------\n",
      "Grouped Attribute Values \n",
      "    outlook  temp humidity    wind play\n",
      "5     Rain  cold   Normal  Strong   No\n",
      "13    Rain   hot     High  Strong   No\n",
      "Grouped Attribute Values \n",
      "   outlook  temp humidity  wind play\n",
      "3    Rain  cold     High  Weak  Yes\n",
      "4    Rain  cold   Normal  Weak  Yes\n",
      "9    Rain  cold   Normal  Weak  Yes\n",
      "Target attribute class count(Yes/No)= {'No': 2}\n",
      "Total no of instances/records associated with Strong is: 2\n",
      "Probability of Class No is: 1.0000\n",
      "Probability of Class No is: 1.0000\n",
      "Target attribute class count(Yes/No)= {'Yes': 3}\n",
      "Total no of instances/records associated with Weak is: 3\n",
      "Probability of Class Yes is: 1.0000\n",
      "Probability of Class Yes is: 1.0000\n",
      "Target attribute class count(Yes/No)= {'Yes': 3, 'No': 2}\n",
      "Total no of instances/records associated with S-Rain is: 5\n",
      "Probability of Class No is: 0.4000\n",
      "Probability of Class Yes is: 0.6000\n",
      "Information gain : wind  is :  0.9709505944546686\n",
      "\n",
      "Max gain attribute is:  wind\n",
      "\n",
      "\n",
      "-----Information Gain Calculation of  temp  --------\n",
      "Grouped Attribute Values \n",
      "   outlook  temp humidity    wind play\n",
      "0   Sunny  cold     High    Weak   No\n",
      "1   Sunny  cold     High  Strong   No\n",
      "7   Sunny  cold     High    Weak   No\n",
      "8   Sunny  cold   Normal    Weak  Yes\n",
      "Grouped Attribute Values \n",
      "    outlook  temp humidity    wind play\n",
      "10   Sunny  mild   Normal  Strong  Yes\n",
      "Target attribute class count(Yes/No)= {'No': 3, 'Yes': 1}\n",
      "Total no of instances/records associated with cold is: 4\n",
      "Probability of Class No is: 0.2500\n",
      "Probability of Class Yes is: 0.7500\n",
      "Target attribute class count(Yes/No)= {'Yes': 1}\n",
      "Total no of instances/records associated with mild is: 1\n",
      "Probability of Class Yes is: 1.0000\n",
      "Probability of Class Yes is: 1.0000\n",
      "Target attribute class count(Yes/No)= {'No': 3, 'Yes': 2}\n",
      "Total no of instances/records associated with S-Sunny is: 5\n",
      "Probability of Class No is: 0.4000\n",
      "Probability of Class Yes is: 0.6000\n",
      "Information gain : temp  is :  0.3219280948873623\n",
      "\n",
      "\n",
      "-----Information Gain Calculation of  humidity  --------\n",
      "Grouped Attribute Values \n",
      "   outlook  temp humidity    wind play\n",
      "0   Sunny  cold     High    Weak   No\n",
      "1   Sunny  cold     High  Strong   No\n",
      "7   Sunny  cold     High    Weak   No\n",
      "Grouped Attribute Values \n",
      "    outlook  temp humidity    wind play\n",
      "8    Sunny  cold   Normal    Weak  Yes\n",
      "10   Sunny  mild   Normal  Strong  Yes\n",
      "Target attribute class count(Yes/No)= {'No': 3}\n",
      "Total no of instances/records associated with High is: 3\n",
      "Probability of Class No is: 1.0000\n",
      "Probability of Class No is: 1.0000\n",
      "Target attribute class count(Yes/No)= {'Yes': 2}\n",
      "Total no of instances/records associated with Normal is: 2\n",
      "Probability of Class Yes is: 1.0000\n",
      "Probability of Class Yes is: 1.0000\n",
      "Target attribute class count(Yes/No)= {'No': 3, 'Yes': 2}\n",
      "Total no of instances/records associated with S-Sunny is: 5\n",
      "Probability of Class No is: 0.4000\n",
      "Probability of Class Yes is: 0.6000\n",
      "Information gain : humidity  is :  0.9709505944546686\n",
      "\n",
      "\n",
      "-----Information Gain Calculation of  wind  --------\n",
      "Grouped Attribute Values \n",
      "    outlook  temp humidity    wind play\n",
      "1    Sunny  cold     High  Strong   No\n",
      "10   Sunny  mild   Normal  Strong  Yes\n",
      "Grouped Attribute Values \n",
      "   outlook  temp humidity  wind play\n",
      "0   Sunny  cold     High  Weak   No\n",
      "7   Sunny  cold     High  Weak   No\n",
      "8   Sunny  cold   Normal  Weak  Yes\n",
      "Target attribute class count(Yes/No)= {'No': 1, 'Yes': 1}\n",
      "Total no of instances/records associated with Strong is: 2\n",
      "Probability of Class No is: 0.5000\n",
      "Probability of Class Yes is: 0.5000\n",
      "Target attribute class count(Yes/No)= {'No': 2, 'Yes': 1}\n",
      "Total no of instances/records associated with Weak is: 3\n",
      "Probability of Class No is: 0.3333\n",
      "Probability of Class Yes is: 0.6667\n",
      "Target attribute class count(Yes/No)= {'No': 3, 'Yes': 2}\n",
      "Total no of instances/records associated with S-Sunny is: 5\n",
      "Probability of Class No is: 0.4000\n",
      "Probability of Class Yes is: 0.6000\n",
      "Information gain : wind  is :  0.01997309402197489\n",
      "\n",
      "Max gain attribute is:  humidity\n",
      "\n",
      "The Resultant Decision Tree is:\n",
      "{'outlook': {'Overcast': 'Yes',\n",
      "             'Rain': {'wind': {'Strong': 'No', 'Weak': 'Yes'}},\n",
      "             'Sunny': {'humidity': {'High': 'No', 'Normal': 'Yes'}}}}\n"
     ]
    }
   ],
   "source": [
    "from pprint import pprint\n",
    "tree = id3(data,t,attribute_names)\n",
    "print(\"\\nThe Resultant Decision Tree is:\")\n",
    "pprint(tree)"
   ]
  },
  {
   "cell_type": "markdown",
   "metadata": {
    "colab_type": "text",
    "id": "OdaECjmGpOlS"
   },
   "source": [
    "# Apply Random Forest to create predictive models for the two previous datasets"
   ]
  },
  {
   "cell_type": "markdown",
   "metadata": {
    "colab_type": "text",
    "id": "H5OlYeDfq2Wh"
   },
   "source": [
    "Reading the first datset"
   ]
  },
  {
   "cell_type": "code",
   "execution_count": 40,
   "metadata": {
    "colab": {
     "base_uri": "https://localhost:8080/",
     "height": 204
    },
    "colab_type": "code",
    "id": "j4Cifdn3qKoc",
    "outputId": "e8126f48-c4e1-41c7-b1d7-9d8c9c26d8fd"
   },
   "outputs": [
    {
     "data": {
      "text/html": [
       "<div>\n",
       "<style scoped>\n",
       "    .dataframe tbody tr th:only-of-type {\n",
       "        vertical-align: middle;\n",
       "    }\n",
       "\n",
       "    .dataframe tbody tr th {\n",
       "        vertical-align: top;\n",
       "    }\n",
       "\n",
       "    .dataframe thead th {\n",
       "        text-align: right;\n",
       "    }\n",
       "</style>\n",
       "<table border=\"1\" class=\"dataframe\">\n",
       "  <thead>\n",
       "    <tr style=\"text-align: right;\">\n",
       "      <th></th>\n",
       "      <th>day</th>\n",
       "      <th>outlook</th>\n",
       "      <th>temp</th>\n",
       "      <th>humidity</th>\n",
       "      <th>wind</th>\n",
       "      <th>play</th>\n",
       "    </tr>\n",
       "  </thead>\n",
       "  <tbody>\n",
       "    <tr>\n",
       "      <td>0</td>\n",
       "      <td>D1</td>\n",
       "      <td>Sunny</td>\n",
       "      <td>Hot</td>\n",
       "      <td>High</td>\n",
       "      <td>Weak</td>\n",
       "      <td>No</td>\n",
       "    </tr>\n",
       "    <tr>\n",
       "      <td>1</td>\n",
       "      <td>D2</td>\n",
       "      <td>Sunny</td>\n",
       "      <td>Hot</td>\n",
       "      <td>High</td>\n",
       "      <td>Strong</td>\n",
       "      <td>No</td>\n",
       "    </tr>\n",
       "    <tr>\n",
       "      <td>2</td>\n",
       "      <td>D3</td>\n",
       "      <td>Overcast</td>\n",
       "      <td>Hot</td>\n",
       "      <td>High</td>\n",
       "      <td>Weak</td>\n",
       "      <td>Yes</td>\n",
       "    </tr>\n",
       "    <tr>\n",
       "      <td>3</td>\n",
       "      <td>D4</td>\n",
       "      <td>Rain</td>\n",
       "      <td>Mild</td>\n",
       "      <td>High</td>\n",
       "      <td>Weak</td>\n",
       "      <td>Yes</td>\n",
       "    </tr>\n",
       "    <tr>\n",
       "      <td>4</td>\n",
       "      <td>D5</td>\n",
       "      <td>Rain</td>\n",
       "      <td>Cool</td>\n",
       "      <td>Normal</td>\n",
       "      <td>Weak</td>\n",
       "      <td>Yes</td>\n",
       "    </tr>\n",
       "  </tbody>\n",
       "</table>\n",
       "</div>"
      ],
      "text/plain": [
       "  day   outlook  temp humidity    wind play\n",
       "0  D1     Sunny   Hot     High    Weak   No\n",
       "1  D2     Sunny   Hot     High  Strong   No\n",
       "2  D3  Overcast   Hot     High    Weak  Yes\n",
       "3  D4      Rain  Mild     High    Weak  Yes\n",
       "4  D5      Rain  Cool   Normal    Weak  Yes"
      ]
     },
     "execution_count": 40,
     "metadata": {},
     "output_type": "execute_result"
    }
   ],
   "source": [
    "df= pd.read_csv(\"play_tennis.csv\")\n",
    "df.head()"
   ]
  },
  {
   "cell_type": "markdown",
   "metadata": {
    "colab_type": "text",
    "id": "qB2Ua9Gwq_iY"
   },
   "source": [
    "Mapping integer values to the output column, 'play'\n"
   ]
  },
  {
   "cell_type": "code",
   "execution_count": 41,
   "metadata": {
    "colab": {},
    "colab_type": "code",
    "id": "cIVMp81AqPQZ"
   },
   "outputs": [],
   "source": [
    "df['play']=df['play'].map({'No': 0, 'Yes': 1})\n",
    "df= df.drop(['day'],axis=1)"
   ]
  },
  {
   "cell_type": "markdown",
   "metadata": {
    "colab_type": "text",
    "id": "UPSOsO35q6et"
   },
   "source": [
    "\n",
    "Splitting the data into test and train\n"
   ]
  },
  {
   "cell_type": "code",
   "execution_count": 42,
   "metadata": {
    "colab": {},
    "colab_type": "code",
    "id": "4LYmz_Jjqedy"
   },
   "outputs": [],
   "source": [
    "X = df.drop(['play'], axis=1)\n",
    "Y = df['play']"
   ]
  },
  {
   "cell_type": "code",
   "execution_count": 43,
   "metadata": {
    "colab": {},
    "colab_type": "code",
    "id": "iyTl88qUqfb1"
   },
   "outputs": [],
   "source": [
    "from sklearn.model_selection import train_test_split\n",
    "\n",
    "X_train, X_test, Y_train, Y_test = train_test_split(X, Y, test_size = 0.2)"
   ]
  },
  {
   "cell_type": "markdown",
   "metadata": {
    "colab_type": "text",
    "id": "X3tA6qu1rKWw"
   },
   "source": [
    "Using Label Encoder to convert categorical data"
   ]
  },
  {
   "cell_type": "code",
   "execution_count": 44,
   "metadata": {
    "colab": {
     "base_uri": "https://localhost:8080/",
     "height": 241
    },
    "colab_type": "code",
    "id": "RaKDqpyspsWa",
    "outputId": "73a69826-0bbc-4a98-b9b0-0b32a3abe234"
   },
   "outputs": [],
   "source": [
    "from sklearn import preprocessing\n",
    "\n",
    "categorical = ['outlook', 'temp', 'humidity', 'wind']\n",
    "for feature in categorical:\n",
    "        le = preprocessing.LabelEncoder()\n",
    "        X_train[feature] = le.fit_transform(X_train[feature])\n",
    "        X_test[feature] = le.transform(X_test[feature])"
   ]
  },
  {
   "cell_type": "markdown",
   "metadata": {
    "colab_type": "text",
    "id": "rY0aYV_5rQvu"
   },
   "source": [
    "Applying the random forest classifier"
   ]
  },
  {
   "cell_type": "code",
   "execution_count": 45,
   "metadata": {
    "colab": {},
    "colab_type": "code",
    "id": "forbYoTTqJU3"
   },
   "outputs": [],
   "source": [
    "from sklearn.ensemble import RandomForestClassifier\n",
    "random_forest = RandomForestClassifier(n_estimators=100)\n",
    "random_forest.fit(X_train, Y_train)\n",
    "\n",
    "Y_prediction = random_forest.predict(X_test)\n",
    "\n",
    "random_forest.score(X_train, Y_train)\n",
    "acc_random_forest = metrics.accuracy_score(Y_test,Y_prediction)*100\n"
   ]
  },
  {
   "cell_type": "markdown",
   "metadata": {
    "colab_type": "text",
    "id": "1XGlIAJAtqc2"
   },
   "source": [
    "Reading the second dataset"
   ]
  },
  {
   "cell_type": "code",
   "execution_count": 46,
   "metadata": {
    "colab": {},
    "colab_type": "code",
    "id": "vAZKtDQRyWLg"
   },
   "outputs": [],
   "source": [
    "df1=pd.read_csv(\"play.csv\")"
   ]
  },
  {
   "cell_type": "markdown",
   "metadata": {
    "colab_type": "text",
    "id": "dtX4uDF8tzR6"
   },
   "source": [
    "Mapping integer values to the output column, 'play'\n"
   ]
  },
  {
   "cell_type": "code",
   "execution_count": 47,
   "metadata": {
    "colab": {},
    "colab_type": "code",
    "id": "Z7M3GORrtyEu"
   },
   "outputs": [],
   "source": [
    "df1['play']=df1['play'].map({'No': 0, 'Yes': 1})\n",
    "df1= df1.drop(['day'],axis=1)"
   ]
  },
  {
   "cell_type": "markdown",
   "metadata": {
    "colab_type": "text",
    "id": "HBvZ4GA4uHI2"
   },
   "source": [
    "Splitting the data into test and train"
   ]
  },
  {
   "cell_type": "code",
   "execution_count": 48,
   "metadata": {
    "colab": {},
    "colab_type": "code",
    "id": "VTJ0I_B9uNad"
   },
   "outputs": [],
   "source": [
    "X = df1.drop(['play'], axis=1)\n",
    "Y = df1['play']\n",
    "X_train, X_test, Y_train, Y_test = train_test_split(X, Y, test_size = 0.2)"
   ]
  },
  {
   "cell_type": "markdown",
   "metadata": {
    "colab_type": "text",
    "id": "ZxOq-J3VuZO6"
   },
   "source": [
    "Using Label Encoder to convert categorical data"
   ]
  },
  {
   "cell_type": "code",
   "execution_count": 49,
   "metadata": {
    "colab": {
     "base_uri": "https://localhost:8080/",
     "height": 241
    },
    "colab_type": "code",
    "id": "LzF_eMuWuUWA",
    "outputId": "1cf59c22-4a95-4478-9b18-2555bac7b985"
   },
   "outputs": [],
   "source": [
    "from sklearn import preprocessing\n",
    "\n",
    "categorical = ['outlook', 'humidity', 'wind']\n",
    "for feature in categorical:\n",
    "        le = preprocessing.LabelEncoder()\n",
    "        X_train[feature] = le.fit_transform(X_train[feature])\n",
    "        X_test[feature] = le.transform(X_test[feature])"
   ]
  },
  {
   "cell_type": "markdown",
   "metadata": {
    "colab_type": "text",
    "id": "bGFTum6ZujeL"
   },
   "source": [
    "Applying the random forest classifier"
   ]
  },
  {
   "cell_type": "code",
   "execution_count": 50,
   "metadata": {
    "colab": {},
    "colab_type": "code",
    "id": "y0rK6zYgun1F"
   },
   "outputs": [],
   "source": [
    "from sklearn.ensemble import RandomForestClassifier\n",
    "random_forest = RandomForestClassifier(n_estimators=100)\n",
    "random_forest.fit(X_train, Y_train)\n",
    "\n",
    "Y_prediction = random_forest.predict(X_test)\n",
    "\n",
    "random_forest.score(X_train, Y_train)\n",
    "acc_random_forest = metrics.accuracy_score(Y_test,Y_pred)*100\n"
   ]
  }
 ],
 "metadata": {
  "colab": {
   "collapsed_sections": [
    "nem8AVXvTliL",
    "1fKmeue1cSEY",
    "20tuPaTtgX7m",
    "yK5lBsstnVGa"
   ],
   "name": "Picnic.ipynb",
   "provenance": [],
   "toc_visible": true
  },
  "kernelspec": {
   "display_name": "Python 3",
   "language": "python",
   "name": "python3"
  },
  "language_info": {
   "codemirror_mode": {
    "name": "ipython",
    "version": 3
   },
   "file_extension": ".py",
   "mimetype": "text/x-python",
   "name": "python",
   "nbconvert_exporter": "python",
   "pygments_lexer": "ipython3",
   "version": "3.7.4"
  }
 },
 "nbformat": 4,
 "nbformat_minor": 1
}
